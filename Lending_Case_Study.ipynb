{
 "cells": [
  {
   "cell_type": "markdown",
   "id": "ea05d01c",
   "metadata": {},
   "source": [
    "Lending Case Study is to understand risk anlytics in banking and financial services "
   ]
  },
  {
   "cell_type": "code",
   "execution_count": 1,
   "id": "cbfaf266",
   "metadata": {},
   "outputs": [],
   "source": [
    "# Importing the libraries like numpy,pandas, seaborn and matplotlib\n",
    "import numpy as np\n",
    "import pandas as pd\n",
    "import seaborn as sns\n",
    "import matplotlib.pyplot as plt\n",
    "%matplotlib inline"
   ]
  },
  {
   "cell_type": "code",
   "execution_count": 2,
   "id": "cb53742f",
   "metadata": {},
   "outputs": [],
   "source": [
    "# Reading the file\n",
    "df = pd.read_csv('loan.csv',low_memory=False)"
   ]
  },
  {
   "cell_type": "code",
   "execution_count": 3,
   "id": "ffc5cf03",
   "metadata": {},
   "outputs": [
    {
     "data": {
      "text/plain": [
       "(39717, 111)"
      ]
     },
     "execution_count": 3,
     "metadata": {},
     "output_type": "execute_result"
    }
   ],
   "source": [
    "# checking the no of rows and column\n",
    "df.shape"
   ]
  },
  {
   "cell_type": "code",
   "execution_count": 4,
   "id": "1b685df6",
   "metadata": {},
   "outputs": [
    {
     "data": {
      "text/html": [
       "<div>\n",
       "<style scoped>\n",
       "    .dataframe tbody tr th:only-of-type {\n",
       "        vertical-align: middle;\n",
       "    }\n",
       "\n",
       "    .dataframe tbody tr th {\n",
       "        vertical-align: top;\n",
       "    }\n",
       "\n",
       "    .dataframe thead th {\n",
       "        text-align: right;\n",
       "    }\n",
       "</style>\n",
       "<table border=\"1\" class=\"dataframe\">\n",
       "  <thead>\n",
       "    <tr style=\"text-align: right;\">\n",
       "      <th></th>\n",
       "      <th>id</th>\n",
       "      <th>member_id</th>\n",
       "      <th>loan_amnt</th>\n",
       "      <th>funded_amnt</th>\n",
       "      <th>funded_amnt_inv</th>\n",
       "      <th>term</th>\n",
       "      <th>int_rate</th>\n",
       "      <th>installment</th>\n",
       "      <th>grade</th>\n",
       "      <th>sub_grade</th>\n",
       "      <th>...</th>\n",
       "      <th>num_tl_90g_dpd_24m</th>\n",
       "      <th>num_tl_op_past_12m</th>\n",
       "      <th>pct_tl_nvr_dlq</th>\n",
       "      <th>percent_bc_gt_75</th>\n",
       "      <th>pub_rec_bankruptcies</th>\n",
       "      <th>tax_liens</th>\n",
       "      <th>tot_hi_cred_lim</th>\n",
       "      <th>total_bal_ex_mort</th>\n",
       "      <th>total_bc_limit</th>\n",
       "      <th>total_il_high_credit_limit</th>\n",
       "    </tr>\n",
       "  </thead>\n",
       "  <tbody>\n",
       "    <tr>\n",
       "      <th>0</th>\n",
       "      <td>1077501</td>\n",
       "      <td>1296599</td>\n",
       "      <td>5000</td>\n",
       "      <td>5000</td>\n",
       "      <td>4975.0</td>\n",
       "      <td>36 months</td>\n",
       "      <td>10.65%</td>\n",
       "      <td>162.87</td>\n",
       "      <td>B</td>\n",
       "      <td>B2</td>\n",
       "      <td>...</td>\n",
       "      <td>NaN</td>\n",
       "      <td>NaN</td>\n",
       "      <td>NaN</td>\n",
       "      <td>NaN</td>\n",
       "      <td>0.0</td>\n",
       "      <td>0.0</td>\n",
       "      <td>NaN</td>\n",
       "      <td>NaN</td>\n",
       "      <td>NaN</td>\n",
       "      <td>NaN</td>\n",
       "    </tr>\n",
       "    <tr>\n",
       "      <th>1</th>\n",
       "      <td>1077430</td>\n",
       "      <td>1314167</td>\n",
       "      <td>2500</td>\n",
       "      <td>2500</td>\n",
       "      <td>2500.0</td>\n",
       "      <td>60 months</td>\n",
       "      <td>15.27%</td>\n",
       "      <td>59.83</td>\n",
       "      <td>C</td>\n",
       "      <td>C4</td>\n",
       "      <td>...</td>\n",
       "      <td>NaN</td>\n",
       "      <td>NaN</td>\n",
       "      <td>NaN</td>\n",
       "      <td>NaN</td>\n",
       "      <td>0.0</td>\n",
       "      <td>0.0</td>\n",
       "      <td>NaN</td>\n",
       "      <td>NaN</td>\n",
       "      <td>NaN</td>\n",
       "      <td>NaN</td>\n",
       "    </tr>\n",
       "    <tr>\n",
       "      <th>2</th>\n",
       "      <td>1077175</td>\n",
       "      <td>1313524</td>\n",
       "      <td>2400</td>\n",
       "      <td>2400</td>\n",
       "      <td>2400.0</td>\n",
       "      <td>36 months</td>\n",
       "      <td>15.96%</td>\n",
       "      <td>84.33</td>\n",
       "      <td>C</td>\n",
       "      <td>C5</td>\n",
       "      <td>...</td>\n",
       "      <td>NaN</td>\n",
       "      <td>NaN</td>\n",
       "      <td>NaN</td>\n",
       "      <td>NaN</td>\n",
       "      <td>0.0</td>\n",
       "      <td>0.0</td>\n",
       "      <td>NaN</td>\n",
       "      <td>NaN</td>\n",
       "      <td>NaN</td>\n",
       "      <td>NaN</td>\n",
       "    </tr>\n",
       "    <tr>\n",
       "      <th>3</th>\n",
       "      <td>1076863</td>\n",
       "      <td>1277178</td>\n",
       "      <td>10000</td>\n",
       "      <td>10000</td>\n",
       "      <td>10000.0</td>\n",
       "      <td>36 months</td>\n",
       "      <td>13.49%</td>\n",
       "      <td>339.31</td>\n",
       "      <td>C</td>\n",
       "      <td>C1</td>\n",
       "      <td>...</td>\n",
       "      <td>NaN</td>\n",
       "      <td>NaN</td>\n",
       "      <td>NaN</td>\n",
       "      <td>NaN</td>\n",
       "      <td>0.0</td>\n",
       "      <td>0.0</td>\n",
       "      <td>NaN</td>\n",
       "      <td>NaN</td>\n",
       "      <td>NaN</td>\n",
       "      <td>NaN</td>\n",
       "    </tr>\n",
       "    <tr>\n",
       "      <th>4</th>\n",
       "      <td>1075358</td>\n",
       "      <td>1311748</td>\n",
       "      <td>3000</td>\n",
       "      <td>3000</td>\n",
       "      <td>3000.0</td>\n",
       "      <td>60 months</td>\n",
       "      <td>12.69%</td>\n",
       "      <td>67.79</td>\n",
       "      <td>B</td>\n",
       "      <td>B5</td>\n",
       "      <td>...</td>\n",
       "      <td>NaN</td>\n",
       "      <td>NaN</td>\n",
       "      <td>NaN</td>\n",
       "      <td>NaN</td>\n",
       "      <td>0.0</td>\n",
       "      <td>0.0</td>\n",
       "      <td>NaN</td>\n",
       "      <td>NaN</td>\n",
       "      <td>NaN</td>\n",
       "      <td>NaN</td>\n",
       "    </tr>\n",
       "    <tr>\n",
       "      <th>5</th>\n",
       "      <td>1075269</td>\n",
       "      <td>1311441</td>\n",
       "      <td>5000</td>\n",
       "      <td>5000</td>\n",
       "      <td>5000.0</td>\n",
       "      <td>36 months</td>\n",
       "      <td>7.90%</td>\n",
       "      <td>156.46</td>\n",
       "      <td>A</td>\n",
       "      <td>A4</td>\n",
       "      <td>...</td>\n",
       "      <td>NaN</td>\n",
       "      <td>NaN</td>\n",
       "      <td>NaN</td>\n",
       "      <td>NaN</td>\n",
       "      <td>0.0</td>\n",
       "      <td>0.0</td>\n",
       "      <td>NaN</td>\n",
       "      <td>NaN</td>\n",
       "      <td>NaN</td>\n",
       "      <td>NaN</td>\n",
       "    </tr>\n",
       "    <tr>\n",
       "      <th>6</th>\n",
       "      <td>1069639</td>\n",
       "      <td>1304742</td>\n",
       "      <td>7000</td>\n",
       "      <td>7000</td>\n",
       "      <td>7000.0</td>\n",
       "      <td>60 months</td>\n",
       "      <td>15.96%</td>\n",
       "      <td>170.08</td>\n",
       "      <td>C</td>\n",
       "      <td>C5</td>\n",
       "      <td>...</td>\n",
       "      <td>NaN</td>\n",
       "      <td>NaN</td>\n",
       "      <td>NaN</td>\n",
       "      <td>NaN</td>\n",
       "      <td>0.0</td>\n",
       "      <td>0.0</td>\n",
       "      <td>NaN</td>\n",
       "      <td>NaN</td>\n",
       "      <td>NaN</td>\n",
       "      <td>NaN</td>\n",
       "    </tr>\n",
       "    <tr>\n",
       "      <th>7</th>\n",
       "      <td>1072053</td>\n",
       "      <td>1288686</td>\n",
       "      <td>3000</td>\n",
       "      <td>3000</td>\n",
       "      <td>3000.0</td>\n",
       "      <td>36 months</td>\n",
       "      <td>18.64%</td>\n",
       "      <td>109.43</td>\n",
       "      <td>E</td>\n",
       "      <td>E1</td>\n",
       "      <td>...</td>\n",
       "      <td>NaN</td>\n",
       "      <td>NaN</td>\n",
       "      <td>NaN</td>\n",
       "      <td>NaN</td>\n",
       "      <td>0.0</td>\n",
       "      <td>0.0</td>\n",
       "      <td>NaN</td>\n",
       "      <td>NaN</td>\n",
       "      <td>NaN</td>\n",
       "      <td>NaN</td>\n",
       "    </tr>\n",
       "    <tr>\n",
       "      <th>8</th>\n",
       "      <td>1071795</td>\n",
       "      <td>1306957</td>\n",
       "      <td>5600</td>\n",
       "      <td>5600</td>\n",
       "      <td>5600.0</td>\n",
       "      <td>60 months</td>\n",
       "      <td>21.28%</td>\n",
       "      <td>152.39</td>\n",
       "      <td>F</td>\n",
       "      <td>F2</td>\n",
       "      <td>...</td>\n",
       "      <td>NaN</td>\n",
       "      <td>NaN</td>\n",
       "      <td>NaN</td>\n",
       "      <td>NaN</td>\n",
       "      <td>0.0</td>\n",
       "      <td>0.0</td>\n",
       "      <td>NaN</td>\n",
       "      <td>NaN</td>\n",
       "      <td>NaN</td>\n",
       "      <td>NaN</td>\n",
       "    </tr>\n",
       "    <tr>\n",
       "      <th>9</th>\n",
       "      <td>1071570</td>\n",
       "      <td>1306721</td>\n",
       "      <td>5375</td>\n",
       "      <td>5375</td>\n",
       "      <td>5350.0</td>\n",
       "      <td>60 months</td>\n",
       "      <td>12.69%</td>\n",
       "      <td>121.45</td>\n",
       "      <td>B</td>\n",
       "      <td>B5</td>\n",
       "      <td>...</td>\n",
       "      <td>NaN</td>\n",
       "      <td>NaN</td>\n",
       "      <td>NaN</td>\n",
       "      <td>NaN</td>\n",
       "      <td>0.0</td>\n",
       "      <td>0.0</td>\n",
       "      <td>NaN</td>\n",
       "      <td>NaN</td>\n",
       "      <td>NaN</td>\n",
       "      <td>NaN</td>\n",
       "    </tr>\n",
       "  </tbody>\n",
       "</table>\n",
       "<p>10 rows × 111 columns</p>\n",
       "</div>"
      ],
      "text/plain": [
       "        id  member_id  loan_amnt  funded_amnt  funded_amnt_inv        term  \\\n",
       "0  1077501    1296599       5000         5000           4975.0   36 months   \n",
       "1  1077430    1314167       2500         2500           2500.0   60 months   \n",
       "2  1077175    1313524       2400         2400           2400.0   36 months   \n",
       "3  1076863    1277178      10000        10000          10000.0   36 months   \n",
       "4  1075358    1311748       3000         3000           3000.0   60 months   \n",
       "5  1075269    1311441       5000         5000           5000.0   36 months   \n",
       "6  1069639    1304742       7000         7000           7000.0   60 months   \n",
       "7  1072053    1288686       3000         3000           3000.0   36 months   \n",
       "8  1071795    1306957       5600         5600           5600.0   60 months   \n",
       "9  1071570    1306721       5375         5375           5350.0   60 months   \n",
       "\n",
       "  int_rate  installment grade sub_grade  ... num_tl_90g_dpd_24m  \\\n",
       "0   10.65%       162.87     B        B2  ...                NaN   \n",
       "1   15.27%        59.83     C        C4  ...                NaN   \n",
       "2   15.96%        84.33     C        C5  ...                NaN   \n",
       "3   13.49%       339.31     C        C1  ...                NaN   \n",
       "4   12.69%        67.79     B        B5  ...                NaN   \n",
       "5    7.90%       156.46     A        A4  ...                NaN   \n",
       "6   15.96%       170.08     C        C5  ...                NaN   \n",
       "7   18.64%       109.43     E        E1  ...                NaN   \n",
       "8   21.28%       152.39     F        F2  ...                NaN   \n",
       "9   12.69%       121.45     B        B5  ...                NaN   \n",
       "\n",
       "  num_tl_op_past_12m pct_tl_nvr_dlq  percent_bc_gt_75 pub_rec_bankruptcies  \\\n",
       "0                NaN            NaN               NaN                  0.0   \n",
       "1                NaN            NaN               NaN                  0.0   \n",
       "2                NaN            NaN               NaN                  0.0   \n",
       "3                NaN            NaN               NaN                  0.0   \n",
       "4                NaN            NaN               NaN                  0.0   \n",
       "5                NaN            NaN               NaN                  0.0   \n",
       "6                NaN            NaN               NaN                  0.0   \n",
       "7                NaN            NaN               NaN                  0.0   \n",
       "8                NaN            NaN               NaN                  0.0   \n",
       "9                NaN            NaN               NaN                  0.0   \n",
       "\n",
       "  tax_liens tot_hi_cred_lim total_bal_ex_mort total_bc_limit  \\\n",
       "0       0.0             NaN               NaN            NaN   \n",
       "1       0.0             NaN               NaN            NaN   \n",
       "2       0.0             NaN               NaN            NaN   \n",
       "3       0.0             NaN               NaN            NaN   \n",
       "4       0.0             NaN               NaN            NaN   \n",
       "5       0.0             NaN               NaN            NaN   \n",
       "6       0.0             NaN               NaN            NaN   \n",
       "7       0.0             NaN               NaN            NaN   \n",
       "8       0.0             NaN               NaN            NaN   \n",
       "9       0.0             NaN               NaN            NaN   \n",
       "\n",
       "  total_il_high_credit_limit  \n",
       "0                        NaN  \n",
       "1                        NaN  \n",
       "2                        NaN  \n",
       "3                        NaN  \n",
       "4                        NaN  \n",
       "5                        NaN  \n",
       "6                        NaN  \n",
       "7                        NaN  \n",
       "8                        NaN  \n",
       "9                        NaN  \n",
       "\n",
       "[10 rows x 111 columns]"
      ]
     },
     "execution_count": 4,
     "metadata": {},
     "output_type": "execute_result"
    }
   ],
   "source": [
    "# Check 1st 10 records\n",
    "df.head(10)"
   ]
  },
  {
   "cell_type": "code",
   "execution_count": 5,
   "id": "517291e6",
   "metadata": {},
   "outputs": [
    {
     "data": {
      "text/html": [
       "<div>\n",
       "<style scoped>\n",
       "    .dataframe tbody tr th:only-of-type {\n",
       "        vertical-align: middle;\n",
       "    }\n",
       "\n",
       "    .dataframe tbody tr th {\n",
       "        vertical-align: top;\n",
       "    }\n",
       "\n",
       "    .dataframe thead th {\n",
       "        text-align: right;\n",
       "    }\n",
       "</style>\n",
       "<table border=\"1\" class=\"dataframe\">\n",
       "  <thead>\n",
       "    <tr style=\"text-align: right;\">\n",
       "      <th></th>\n",
       "      <th>id</th>\n",
       "      <th>member_id</th>\n",
       "      <th>loan_amnt</th>\n",
       "      <th>funded_amnt</th>\n",
       "      <th>funded_amnt_inv</th>\n",
       "      <th>term</th>\n",
       "      <th>int_rate</th>\n",
       "      <th>installment</th>\n",
       "      <th>grade</th>\n",
       "      <th>sub_grade</th>\n",
       "      <th>...</th>\n",
       "      <th>num_tl_90g_dpd_24m</th>\n",
       "      <th>num_tl_op_past_12m</th>\n",
       "      <th>pct_tl_nvr_dlq</th>\n",
       "      <th>percent_bc_gt_75</th>\n",
       "      <th>pub_rec_bankruptcies</th>\n",
       "      <th>tax_liens</th>\n",
       "      <th>tot_hi_cred_lim</th>\n",
       "      <th>total_bal_ex_mort</th>\n",
       "      <th>total_bc_limit</th>\n",
       "      <th>total_il_high_credit_limit</th>\n",
       "    </tr>\n",
       "  </thead>\n",
       "  <tbody>\n",
       "    <tr>\n",
       "      <th>39707</th>\n",
       "      <td>92666</td>\n",
       "      <td>92661</td>\n",
       "      <td>5000</td>\n",
       "      <td>5000</td>\n",
       "      <td>525.0</td>\n",
       "      <td>36 months</td>\n",
       "      <td>9.33%</td>\n",
       "      <td>159.77</td>\n",
       "      <td>B</td>\n",
       "      <td>B3</td>\n",
       "      <td>...</td>\n",
       "      <td>NaN</td>\n",
       "      <td>NaN</td>\n",
       "      <td>NaN</td>\n",
       "      <td>NaN</td>\n",
       "      <td>NaN</td>\n",
       "      <td>NaN</td>\n",
       "      <td>NaN</td>\n",
       "      <td>NaN</td>\n",
       "      <td>NaN</td>\n",
       "      <td>NaN</td>\n",
       "    </tr>\n",
       "    <tr>\n",
       "      <th>39708</th>\n",
       "      <td>92552</td>\n",
       "      <td>92542</td>\n",
       "      <td>5000</td>\n",
       "      <td>5000</td>\n",
       "      <td>375.0</td>\n",
       "      <td>36 months</td>\n",
       "      <td>9.96%</td>\n",
       "      <td>161.25</td>\n",
       "      <td>B</td>\n",
       "      <td>B5</td>\n",
       "      <td>...</td>\n",
       "      <td>NaN</td>\n",
       "      <td>NaN</td>\n",
       "      <td>NaN</td>\n",
       "      <td>NaN</td>\n",
       "      <td>NaN</td>\n",
       "      <td>NaN</td>\n",
       "      <td>NaN</td>\n",
       "      <td>NaN</td>\n",
       "      <td>NaN</td>\n",
       "      <td>NaN</td>\n",
       "    </tr>\n",
       "    <tr>\n",
       "      <th>39709</th>\n",
       "      <td>92533</td>\n",
       "      <td>92529</td>\n",
       "      <td>5000</td>\n",
       "      <td>5000</td>\n",
       "      <td>675.0</td>\n",
       "      <td>36 months</td>\n",
       "      <td>11.22%</td>\n",
       "      <td>164.23</td>\n",
       "      <td>C</td>\n",
       "      <td>C4</td>\n",
       "      <td>...</td>\n",
       "      <td>NaN</td>\n",
       "      <td>NaN</td>\n",
       "      <td>NaN</td>\n",
       "      <td>NaN</td>\n",
       "      <td>NaN</td>\n",
       "      <td>NaN</td>\n",
       "      <td>NaN</td>\n",
       "      <td>NaN</td>\n",
       "      <td>NaN</td>\n",
       "      <td>NaN</td>\n",
       "    </tr>\n",
       "    <tr>\n",
       "      <th>39710</th>\n",
       "      <td>92507</td>\n",
       "      <td>92502</td>\n",
       "      <td>5000</td>\n",
       "      <td>5000</td>\n",
       "      <td>250.0</td>\n",
       "      <td>36 months</td>\n",
       "      <td>7.43%</td>\n",
       "      <td>155.38</td>\n",
       "      <td>A</td>\n",
       "      <td>A2</td>\n",
       "      <td>...</td>\n",
       "      <td>NaN</td>\n",
       "      <td>NaN</td>\n",
       "      <td>NaN</td>\n",
       "      <td>NaN</td>\n",
       "      <td>NaN</td>\n",
       "      <td>NaN</td>\n",
       "      <td>NaN</td>\n",
       "      <td>NaN</td>\n",
       "      <td>NaN</td>\n",
       "      <td>NaN</td>\n",
       "    </tr>\n",
       "    <tr>\n",
       "      <th>39711</th>\n",
       "      <td>92402</td>\n",
       "      <td>92390</td>\n",
       "      <td>5000</td>\n",
       "      <td>5000</td>\n",
       "      <td>700.0</td>\n",
       "      <td>36 months</td>\n",
       "      <td>8.70%</td>\n",
       "      <td>158.30</td>\n",
       "      <td>B</td>\n",
       "      <td>B1</td>\n",
       "      <td>...</td>\n",
       "      <td>NaN</td>\n",
       "      <td>NaN</td>\n",
       "      <td>NaN</td>\n",
       "      <td>NaN</td>\n",
       "      <td>NaN</td>\n",
       "      <td>NaN</td>\n",
       "      <td>NaN</td>\n",
       "      <td>NaN</td>\n",
       "      <td>NaN</td>\n",
       "      <td>NaN</td>\n",
       "    </tr>\n",
       "    <tr>\n",
       "      <th>39712</th>\n",
       "      <td>92187</td>\n",
       "      <td>92174</td>\n",
       "      <td>2500</td>\n",
       "      <td>2500</td>\n",
       "      <td>1075.0</td>\n",
       "      <td>36 months</td>\n",
       "      <td>8.07%</td>\n",
       "      <td>78.42</td>\n",
       "      <td>A</td>\n",
       "      <td>A4</td>\n",
       "      <td>...</td>\n",
       "      <td>NaN</td>\n",
       "      <td>NaN</td>\n",
       "      <td>NaN</td>\n",
       "      <td>NaN</td>\n",
       "      <td>NaN</td>\n",
       "      <td>NaN</td>\n",
       "      <td>NaN</td>\n",
       "      <td>NaN</td>\n",
       "      <td>NaN</td>\n",
       "      <td>NaN</td>\n",
       "    </tr>\n",
       "    <tr>\n",
       "      <th>39713</th>\n",
       "      <td>90665</td>\n",
       "      <td>90607</td>\n",
       "      <td>8500</td>\n",
       "      <td>8500</td>\n",
       "      <td>875.0</td>\n",
       "      <td>36 months</td>\n",
       "      <td>10.28%</td>\n",
       "      <td>275.38</td>\n",
       "      <td>C</td>\n",
       "      <td>C1</td>\n",
       "      <td>...</td>\n",
       "      <td>NaN</td>\n",
       "      <td>NaN</td>\n",
       "      <td>NaN</td>\n",
       "      <td>NaN</td>\n",
       "      <td>NaN</td>\n",
       "      <td>NaN</td>\n",
       "      <td>NaN</td>\n",
       "      <td>NaN</td>\n",
       "      <td>NaN</td>\n",
       "      <td>NaN</td>\n",
       "    </tr>\n",
       "    <tr>\n",
       "      <th>39714</th>\n",
       "      <td>90395</td>\n",
       "      <td>90390</td>\n",
       "      <td>5000</td>\n",
       "      <td>5000</td>\n",
       "      <td>1325.0</td>\n",
       "      <td>36 months</td>\n",
       "      <td>8.07%</td>\n",
       "      <td>156.84</td>\n",
       "      <td>A</td>\n",
       "      <td>A4</td>\n",
       "      <td>...</td>\n",
       "      <td>NaN</td>\n",
       "      <td>NaN</td>\n",
       "      <td>NaN</td>\n",
       "      <td>NaN</td>\n",
       "      <td>NaN</td>\n",
       "      <td>NaN</td>\n",
       "      <td>NaN</td>\n",
       "      <td>NaN</td>\n",
       "      <td>NaN</td>\n",
       "      <td>NaN</td>\n",
       "    </tr>\n",
       "    <tr>\n",
       "      <th>39715</th>\n",
       "      <td>90376</td>\n",
       "      <td>89243</td>\n",
       "      <td>5000</td>\n",
       "      <td>5000</td>\n",
       "      <td>650.0</td>\n",
       "      <td>36 months</td>\n",
       "      <td>7.43%</td>\n",
       "      <td>155.38</td>\n",
       "      <td>A</td>\n",
       "      <td>A2</td>\n",
       "      <td>...</td>\n",
       "      <td>NaN</td>\n",
       "      <td>NaN</td>\n",
       "      <td>NaN</td>\n",
       "      <td>NaN</td>\n",
       "      <td>NaN</td>\n",
       "      <td>NaN</td>\n",
       "      <td>NaN</td>\n",
       "      <td>NaN</td>\n",
       "      <td>NaN</td>\n",
       "      <td>NaN</td>\n",
       "    </tr>\n",
       "    <tr>\n",
       "      <th>39716</th>\n",
       "      <td>87023</td>\n",
       "      <td>86999</td>\n",
       "      <td>7500</td>\n",
       "      <td>7500</td>\n",
       "      <td>800.0</td>\n",
       "      <td>36 months</td>\n",
       "      <td>13.75%</td>\n",
       "      <td>255.43</td>\n",
       "      <td>E</td>\n",
       "      <td>E2</td>\n",
       "      <td>...</td>\n",
       "      <td>NaN</td>\n",
       "      <td>NaN</td>\n",
       "      <td>NaN</td>\n",
       "      <td>NaN</td>\n",
       "      <td>NaN</td>\n",
       "      <td>NaN</td>\n",
       "      <td>NaN</td>\n",
       "      <td>NaN</td>\n",
       "      <td>NaN</td>\n",
       "      <td>NaN</td>\n",
       "    </tr>\n",
       "  </tbody>\n",
       "</table>\n",
       "<p>10 rows × 111 columns</p>\n",
       "</div>"
      ],
      "text/plain": [
       "          id  member_id  loan_amnt  funded_amnt  funded_amnt_inv        term  \\\n",
       "39707  92666      92661       5000         5000            525.0   36 months   \n",
       "39708  92552      92542       5000         5000            375.0   36 months   \n",
       "39709  92533      92529       5000         5000            675.0   36 months   \n",
       "39710  92507      92502       5000         5000            250.0   36 months   \n",
       "39711  92402      92390       5000         5000            700.0   36 months   \n",
       "39712  92187      92174       2500         2500           1075.0   36 months   \n",
       "39713  90665      90607       8500         8500            875.0   36 months   \n",
       "39714  90395      90390       5000         5000           1325.0   36 months   \n",
       "39715  90376      89243       5000         5000            650.0   36 months   \n",
       "39716  87023      86999       7500         7500            800.0   36 months   \n",
       "\n",
       "      int_rate  installment grade sub_grade  ... num_tl_90g_dpd_24m  \\\n",
       "39707    9.33%       159.77     B        B3  ...                NaN   \n",
       "39708    9.96%       161.25     B        B5  ...                NaN   \n",
       "39709   11.22%       164.23     C        C4  ...                NaN   \n",
       "39710    7.43%       155.38     A        A2  ...                NaN   \n",
       "39711    8.70%       158.30     B        B1  ...                NaN   \n",
       "39712    8.07%        78.42     A        A4  ...                NaN   \n",
       "39713   10.28%       275.38     C        C1  ...                NaN   \n",
       "39714    8.07%       156.84     A        A4  ...                NaN   \n",
       "39715    7.43%       155.38     A        A2  ...                NaN   \n",
       "39716   13.75%       255.43     E        E2  ...                NaN   \n",
       "\n",
       "      num_tl_op_past_12m pct_tl_nvr_dlq  percent_bc_gt_75  \\\n",
       "39707                NaN            NaN               NaN   \n",
       "39708                NaN            NaN               NaN   \n",
       "39709                NaN            NaN               NaN   \n",
       "39710                NaN            NaN               NaN   \n",
       "39711                NaN            NaN               NaN   \n",
       "39712                NaN            NaN               NaN   \n",
       "39713                NaN            NaN               NaN   \n",
       "39714                NaN            NaN               NaN   \n",
       "39715                NaN            NaN               NaN   \n",
       "39716                NaN            NaN               NaN   \n",
       "\n",
       "      pub_rec_bankruptcies tax_liens tot_hi_cred_lim total_bal_ex_mort  \\\n",
       "39707                  NaN       NaN             NaN               NaN   \n",
       "39708                  NaN       NaN             NaN               NaN   \n",
       "39709                  NaN       NaN             NaN               NaN   \n",
       "39710                  NaN       NaN             NaN               NaN   \n",
       "39711                  NaN       NaN             NaN               NaN   \n",
       "39712                  NaN       NaN             NaN               NaN   \n",
       "39713                  NaN       NaN             NaN               NaN   \n",
       "39714                  NaN       NaN             NaN               NaN   \n",
       "39715                  NaN       NaN             NaN               NaN   \n",
       "39716                  NaN       NaN             NaN               NaN   \n",
       "\n",
       "      total_bc_limit total_il_high_credit_limit  \n",
       "39707            NaN                        NaN  \n",
       "39708            NaN                        NaN  \n",
       "39709            NaN                        NaN  \n",
       "39710            NaN                        NaN  \n",
       "39711            NaN                        NaN  \n",
       "39712            NaN                        NaN  \n",
       "39713            NaN                        NaN  \n",
       "39714            NaN                        NaN  \n",
       "39715            NaN                        NaN  \n",
       "39716            NaN                        NaN  \n",
       "\n",
       "[10 rows x 111 columns]"
      ]
     },
     "execution_count": 5,
     "metadata": {},
     "output_type": "execute_result"
    }
   ],
   "source": [
    "# Checking last 10 records\n",
    "df.tail(10)"
   ]
  },
  {
   "cell_type": "code",
   "execution_count": 6,
   "id": "a4b0adb8",
   "metadata": {},
   "outputs": [
    {
     "data": {
      "text/html": [
       "<div>\n",
       "<style scoped>\n",
       "    .dataframe tbody tr th:only-of-type {\n",
       "        vertical-align: middle;\n",
       "    }\n",
       "\n",
       "    .dataframe tbody tr th {\n",
       "        vertical-align: top;\n",
       "    }\n",
       "\n",
       "    .dataframe thead th {\n",
       "        text-align: right;\n",
       "    }\n",
       "</style>\n",
       "<table border=\"1\" class=\"dataframe\">\n",
       "  <thead>\n",
       "    <tr style=\"text-align: right;\">\n",
       "      <th></th>\n",
       "      <th>id</th>\n",
       "      <th>member_id</th>\n",
       "      <th>loan_amnt</th>\n",
       "      <th>funded_amnt</th>\n",
       "      <th>funded_amnt_inv</th>\n",
       "      <th>installment</th>\n",
       "      <th>annual_inc</th>\n",
       "      <th>dti</th>\n",
       "      <th>delinq_2yrs</th>\n",
       "      <th>inq_last_6mths</th>\n",
       "      <th>...</th>\n",
       "      <th>num_tl_90g_dpd_24m</th>\n",
       "      <th>num_tl_op_past_12m</th>\n",
       "      <th>pct_tl_nvr_dlq</th>\n",
       "      <th>percent_bc_gt_75</th>\n",
       "      <th>pub_rec_bankruptcies</th>\n",
       "      <th>tax_liens</th>\n",
       "      <th>tot_hi_cred_lim</th>\n",
       "      <th>total_bal_ex_mort</th>\n",
       "      <th>total_bc_limit</th>\n",
       "      <th>total_il_high_credit_limit</th>\n",
       "    </tr>\n",
       "  </thead>\n",
       "  <tbody>\n",
       "    <tr>\n",
       "      <th>count</th>\n",
       "      <td>3.971700e+04</td>\n",
       "      <td>3.971700e+04</td>\n",
       "      <td>39717.000000</td>\n",
       "      <td>39717.000000</td>\n",
       "      <td>39717.000000</td>\n",
       "      <td>39717.000000</td>\n",
       "      <td>3.971700e+04</td>\n",
       "      <td>39717.000000</td>\n",
       "      <td>39717.000000</td>\n",
       "      <td>39717.000000</td>\n",
       "      <td>...</td>\n",
       "      <td>0.0</td>\n",
       "      <td>0.0</td>\n",
       "      <td>0.0</td>\n",
       "      <td>0.0</td>\n",
       "      <td>39020.000000</td>\n",
       "      <td>39678.0</td>\n",
       "      <td>0.0</td>\n",
       "      <td>0.0</td>\n",
       "      <td>0.0</td>\n",
       "      <td>0.0</td>\n",
       "    </tr>\n",
       "    <tr>\n",
       "      <th>mean</th>\n",
       "      <td>6.831319e+05</td>\n",
       "      <td>8.504636e+05</td>\n",
       "      <td>11219.443815</td>\n",
       "      <td>10947.713196</td>\n",
       "      <td>10397.448868</td>\n",
       "      <td>324.561922</td>\n",
       "      <td>6.896893e+04</td>\n",
       "      <td>13.315130</td>\n",
       "      <td>0.146512</td>\n",
       "      <td>0.869200</td>\n",
       "      <td>...</td>\n",
       "      <td>NaN</td>\n",
       "      <td>NaN</td>\n",
       "      <td>NaN</td>\n",
       "      <td>NaN</td>\n",
       "      <td>0.043260</td>\n",
       "      <td>0.0</td>\n",
       "      <td>NaN</td>\n",
       "      <td>NaN</td>\n",
       "      <td>NaN</td>\n",
       "      <td>NaN</td>\n",
       "    </tr>\n",
       "    <tr>\n",
       "      <th>std</th>\n",
       "      <td>2.106941e+05</td>\n",
       "      <td>2.656783e+05</td>\n",
       "      <td>7456.670694</td>\n",
       "      <td>7187.238670</td>\n",
       "      <td>7128.450439</td>\n",
       "      <td>208.874874</td>\n",
       "      <td>6.379377e+04</td>\n",
       "      <td>6.678594</td>\n",
       "      <td>0.491812</td>\n",
       "      <td>1.070219</td>\n",
       "      <td>...</td>\n",
       "      <td>NaN</td>\n",
       "      <td>NaN</td>\n",
       "      <td>NaN</td>\n",
       "      <td>NaN</td>\n",
       "      <td>0.204324</td>\n",
       "      <td>0.0</td>\n",
       "      <td>NaN</td>\n",
       "      <td>NaN</td>\n",
       "      <td>NaN</td>\n",
       "      <td>NaN</td>\n",
       "    </tr>\n",
       "    <tr>\n",
       "      <th>min</th>\n",
       "      <td>5.473400e+04</td>\n",
       "      <td>7.069900e+04</td>\n",
       "      <td>500.000000</td>\n",
       "      <td>500.000000</td>\n",
       "      <td>0.000000</td>\n",
       "      <td>15.690000</td>\n",
       "      <td>4.000000e+03</td>\n",
       "      <td>0.000000</td>\n",
       "      <td>0.000000</td>\n",
       "      <td>0.000000</td>\n",
       "      <td>...</td>\n",
       "      <td>NaN</td>\n",
       "      <td>NaN</td>\n",
       "      <td>NaN</td>\n",
       "      <td>NaN</td>\n",
       "      <td>0.000000</td>\n",
       "      <td>0.0</td>\n",
       "      <td>NaN</td>\n",
       "      <td>NaN</td>\n",
       "      <td>NaN</td>\n",
       "      <td>NaN</td>\n",
       "    </tr>\n",
       "    <tr>\n",
       "      <th>25%</th>\n",
       "      <td>5.162210e+05</td>\n",
       "      <td>6.667800e+05</td>\n",
       "      <td>5500.000000</td>\n",
       "      <td>5400.000000</td>\n",
       "      <td>5000.000000</td>\n",
       "      <td>167.020000</td>\n",
       "      <td>4.040400e+04</td>\n",
       "      <td>8.170000</td>\n",
       "      <td>0.000000</td>\n",
       "      <td>0.000000</td>\n",
       "      <td>...</td>\n",
       "      <td>NaN</td>\n",
       "      <td>NaN</td>\n",
       "      <td>NaN</td>\n",
       "      <td>NaN</td>\n",
       "      <td>0.000000</td>\n",
       "      <td>0.0</td>\n",
       "      <td>NaN</td>\n",
       "      <td>NaN</td>\n",
       "      <td>NaN</td>\n",
       "      <td>NaN</td>\n",
       "    </tr>\n",
       "    <tr>\n",
       "      <th>50%</th>\n",
       "      <td>6.656650e+05</td>\n",
       "      <td>8.508120e+05</td>\n",
       "      <td>10000.000000</td>\n",
       "      <td>9600.000000</td>\n",
       "      <td>8975.000000</td>\n",
       "      <td>280.220000</td>\n",
       "      <td>5.900000e+04</td>\n",
       "      <td>13.400000</td>\n",
       "      <td>0.000000</td>\n",
       "      <td>1.000000</td>\n",
       "      <td>...</td>\n",
       "      <td>NaN</td>\n",
       "      <td>NaN</td>\n",
       "      <td>NaN</td>\n",
       "      <td>NaN</td>\n",
       "      <td>0.000000</td>\n",
       "      <td>0.0</td>\n",
       "      <td>NaN</td>\n",
       "      <td>NaN</td>\n",
       "      <td>NaN</td>\n",
       "      <td>NaN</td>\n",
       "    </tr>\n",
       "    <tr>\n",
       "      <th>75%</th>\n",
       "      <td>8.377550e+05</td>\n",
       "      <td>1.047339e+06</td>\n",
       "      <td>15000.000000</td>\n",
       "      <td>15000.000000</td>\n",
       "      <td>14400.000000</td>\n",
       "      <td>430.780000</td>\n",
       "      <td>8.230000e+04</td>\n",
       "      <td>18.600000</td>\n",
       "      <td>0.000000</td>\n",
       "      <td>1.000000</td>\n",
       "      <td>...</td>\n",
       "      <td>NaN</td>\n",
       "      <td>NaN</td>\n",
       "      <td>NaN</td>\n",
       "      <td>NaN</td>\n",
       "      <td>0.000000</td>\n",
       "      <td>0.0</td>\n",
       "      <td>NaN</td>\n",
       "      <td>NaN</td>\n",
       "      <td>NaN</td>\n",
       "      <td>NaN</td>\n",
       "    </tr>\n",
       "    <tr>\n",
       "      <th>max</th>\n",
       "      <td>1.077501e+06</td>\n",
       "      <td>1.314167e+06</td>\n",
       "      <td>35000.000000</td>\n",
       "      <td>35000.000000</td>\n",
       "      <td>35000.000000</td>\n",
       "      <td>1305.190000</td>\n",
       "      <td>6.000000e+06</td>\n",
       "      <td>29.990000</td>\n",
       "      <td>11.000000</td>\n",
       "      <td>8.000000</td>\n",
       "      <td>...</td>\n",
       "      <td>NaN</td>\n",
       "      <td>NaN</td>\n",
       "      <td>NaN</td>\n",
       "      <td>NaN</td>\n",
       "      <td>2.000000</td>\n",
       "      <td>0.0</td>\n",
       "      <td>NaN</td>\n",
       "      <td>NaN</td>\n",
       "      <td>NaN</td>\n",
       "      <td>NaN</td>\n",
       "    </tr>\n",
       "  </tbody>\n",
       "</table>\n",
       "<p>8 rows × 87 columns</p>\n",
       "</div>"
      ],
      "text/plain": [
       "                 id     member_id     loan_amnt   funded_amnt  \\\n",
       "count  3.971700e+04  3.971700e+04  39717.000000  39717.000000   \n",
       "mean   6.831319e+05  8.504636e+05  11219.443815  10947.713196   \n",
       "std    2.106941e+05  2.656783e+05   7456.670694   7187.238670   \n",
       "min    5.473400e+04  7.069900e+04    500.000000    500.000000   \n",
       "25%    5.162210e+05  6.667800e+05   5500.000000   5400.000000   \n",
       "50%    6.656650e+05  8.508120e+05  10000.000000   9600.000000   \n",
       "75%    8.377550e+05  1.047339e+06  15000.000000  15000.000000   \n",
       "max    1.077501e+06  1.314167e+06  35000.000000  35000.000000   \n",
       "\n",
       "       funded_amnt_inv   installment    annual_inc           dti  \\\n",
       "count     39717.000000  39717.000000  3.971700e+04  39717.000000   \n",
       "mean      10397.448868    324.561922  6.896893e+04     13.315130   \n",
       "std        7128.450439    208.874874  6.379377e+04      6.678594   \n",
       "min           0.000000     15.690000  4.000000e+03      0.000000   \n",
       "25%        5000.000000    167.020000  4.040400e+04      8.170000   \n",
       "50%        8975.000000    280.220000  5.900000e+04     13.400000   \n",
       "75%       14400.000000    430.780000  8.230000e+04     18.600000   \n",
       "max       35000.000000   1305.190000  6.000000e+06     29.990000   \n",
       "\n",
       "        delinq_2yrs  inq_last_6mths  ...  num_tl_90g_dpd_24m  \\\n",
       "count  39717.000000    39717.000000  ...                 0.0   \n",
       "mean       0.146512        0.869200  ...                 NaN   \n",
       "std        0.491812        1.070219  ...                 NaN   \n",
       "min        0.000000        0.000000  ...                 NaN   \n",
       "25%        0.000000        0.000000  ...                 NaN   \n",
       "50%        0.000000        1.000000  ...                 NaN   \n",
       "75%        0.000000        1.000000  ...                 NaN   \n",
       "max       11.000000        8.000000  ...                 NaN   \n",
       "\n",
       "       num_tl_op_past_12m  pct_tl_nvr_dlq  percent_bc_gt_75  \\\n",
       "count                 0.0             0.0               0.0   \n",
       "mean                  NaN             NaN               NaN   \n",
       "std                   NaN             NaN               NaN   \n",
       "min                   NaN             NaN               NaN   \n",
       "25%                   NaN             NaN               NaN   \n",
       "50%                   NaN             NaN               NaN   \n",
       "75%                   NaN             NaN               NaN   \n",
       "max                   NaN             NaN               NaN   \n",
       "\n",
       "       pub_rec_bankruptcies  tax_liens  tot_hi_cred_lim  total_bal_ex_mort  \\\n",
       "count          39020.000000    39678.0              0.0                0.0   \n",
       "mean               0.043260        0.0              NaN                NaN   \n",
       "std                0.204324        0.0              NaN                NaN   \n",
       "min                0.000000        0.0              NaN                NaN   \n",
       "25%                0.000000        0.0              NaN                NaN   \n",
       "50%                0.000000        0.0              NaN                NaN   \n",
       "75%                0.000000        0.0              NaN                NaN   \n",
       "max                2.000000        0.0              NaN                NaN   \n",
       "\n",
       "       total_bc_limit  total_il_high_credit_limit  \n",
       "count             0.0                         0.0  \n",
       "mean              NaN                         NaN  \n",
       "std               NaN                         NaN  \n",
       "min               NaN                         NaN  \n",
       "25%               NaN                         NaN  \n",
       "50%               NaN                         NaN  \n",
       "75%               NaN                         NaN  \n",
       "max               NaN                         NaN  \n",
       "\n",
       "[8 rows x 87 columns]"
      ]
     },
     "execution_count": 6,
     "metadata": {},
     "output_type": "execute_result"
    }
   ],
   "source": [
    "# Understanding summary stats\n",
    "df.describe()"
   ]
  },
  {
   "cell_type": "code",
   "execution_count": 7,
   "id": "e3a29438",
   "metadata": {
    "scrolled": false
   },
   "outputs": [
    {
     "name": "stdout",
     "output_type": "stream",
     "text": [
      "<class 'pandas.core.frame.DataFrame'>\n",
      "RangeIndex: 39717 entries, 0 to 39716\n",
      "Data columns (total 111 columns):\n",
      " #    Column                          Non-Null Count  Dtype  \n",
      "---   ------                          --------------  -----  \n",
      " 0    id                              39717 non-null  int64  \n",
      " 1    member_id                       39717 non-null  int64  \n",
      " 2    loan_amnt                       39717 non-null  int64  \n",
      " 3    funded_amnt                     39717 non-null  int64  \n",
      " 4    funded_amnt_inv                 39717 non-null  float64\n",
      " 5    term                            39717 non-null  object \n",
      " 6    int_rate                        39717 non-null  object \n",
      " 7    installment                     39717 non-null  float64\n",
      " 8    grade                           39717 non-null  object \n",
      " 9    sub_grade                       39717 non-null  object \n",
      " 10   emp_title                       37258 non-null  object \n",
      " 11   emp_length                      38642 non-null  object \n",
      " 12   home_ownership                  39717 non-null  object \n",
      " 13   annual_inc                      39717 non-null  float64\n",
      " 14   verification_status             39717 non-null  object \n",
      " 15   issue_d                         39717 non-null  object \n",
      " 16   loan_status                     39717 non-null  object \n",
      " 17   pymnt_plan                      39717 non-null  object \n",
      " 18   url                             39717 non-null  object \n",
      " 19   desc                            26777 non-null  object \n",
      " 20   purpose                         39717 non-null  object \n",
      " 21   title                           39706 non-null  object \n",
      " 22   zip_code                        39717 non-null  object \n",
      " 23   addr_state                      39717 non-null  object \n",
      " 24   dti                             39717 non-null  float64\n",
      " 25   delinq_2yrs                     39717 non-null  int64  \n",
      " 26   earliest_cr_line                39717 non-null  object \n",
      " 27   inq_last_6mths                  39717 non-null  int64  \n",
      " 28   mths_since_last_delinq          14035 non-null  float64\n",
      " 29   mths_since_last_record          2786 non-null   float64\n",
      " 30   open_acc                        39717 non-null  int64  \n",
      " 31   pub_rec                         39717 non-null  int64  \n",
      " 32   revol_bal                       39717 non-null  int64  \n",
      " 33   revol_util                      39667 non-null  object \n",
      " 34   total_acc                       39717 non-null  int64  \n",
      " 35   initial_list_status             39717 non-null  object \n",
      " 36   out_prncp                       39717 non-null  float64\n",
      " 37   out_prncp_inv                   39717 non-null  float64\n",
      " 38   total_pymnt                     39717 non-null  float64\n",
      " 39   total_pymnt_inv                 39717 non-null  float64\n",
      " 40   total_rec_prncp                 39717 non-null  float64\n",
      " 41   total_rec_int                   39717 non-null  float64\n",
      " 42   total_rec_late_fee              39717 non-null  float64\n",
      " 43   recoveries                      39717 non-null  float64\n",
      " 44   collection_recovery_fee         39717 non-null  float64\n",
      " 45   last_pymnt_d                    39646 non-null  object \n",
      " 46   last_pymnt_amnt                 39717 non-null  float64\n",
      " 47   next_pymnt_d                    1140 non-null   object \n",
      " 48   last_credit_pull_d              39715 non-null  object \n",
      " 49   collections_12_mths_ex_med      39661 non-null  float64\n",
      " 50   mths_since_last_major_derog     0 non-null      float64\n",
      " 51   policy_code                     39717 non-null  int64  \n",
      " 52   application_type                39717 non-null  object \n",
      " 53   annual_inc_joint                0 non-null      float64\n",
      " 54   dti_joint                       0 non-null      float64\n",
      " 55   verification_status_joint       0 non-null      float64\n",
      " 56   acc_now_delinq                  39717 non-null  int64  \n",
      " 57   tot_coll_amt                    0 non-null      float64\n",
      " 58   tot_cur_bal                     0 non-null      float64\n",
      " 59   open_acc_6m                     0 non-null      float64\n",
      " 60   open_il_6m                      0 non-null      float64\n",
      " 61   open_il_12m                     0 non-null      float64\n",
      " 62   open_il_24m                     0 non-null      float64\n",
      " 63   mths_since_rcnt_il              0 non-null      float64\n",
      " 64   total_bal_il                    0 non-null      float64\n",
      " 65   il_util                         0 non-null      float64\n",
      " 66   open_rv_12m                     0 non-null      float64\n",
      " 67   open_rv_24m                     0 non-null      float64\n",
      " 68   max_bal_bc                      0 non-null      float64\n",
      " 69   all_util                        0 non-null      float64\n",
      " 70   total_rev_hi_lim                0 non-null      float64\n",
      " 71   inq_fi                          0 non-null      float64\n",
      " 72   total_cu_tl                     0 non-null      float64\n",
      " 73   inq_last_12m                    0 non-null      float64\n",
      " 74   acc_open_past_24mths            0 non-null      float64\n",
      " 75   avg_cur_bal                     0 non-null      float64\n",
      " 76   bc_open_to_buy                  0 non-null      float64\n",
      " 77   bc_util                         0 non-null      float64\n",
      " 78   chargeoff_within_12_mths        39661 non-null  float64\n",
      " 79   delinq_amnt                     39717 non-null  int64  \n",
      " 80   mo_sin_old_il_acct              0 non-null      float64\n",
      " 81   mo_sin_old_rev_tl_op            0 non-null      float64\n",
      " 82   mo_sin_rcnt_rev_tl_op           0 non-null      float64\n",
      " 83   mo_sin_rcnt_tl                  0 non-null      float64\n",
      " 84   mort_acc                        0 non-null      float64\n",
      " 85   mths_since_recent_bc            0 non-null      float64\n",
      " 86   mths_since_recent_bc_dlq        0 non-null      float64\n",
      " 87   mths_since_recent_inq           0 non-null      float64\n",
      " 88   mths_since_recent_revol_delinq  0 non-null      float64\n",
      " 89   num_accts_ever_120_pd           0 non-null      float64\n",
      " 90   num_actv_bc_tl                  0 non-null      float64\n",
      " 91   num_actv_rev_tl                 0 non-null      float64\n",
      " 92   num_bc_sats                     0 non-null      float64\n",
      " 93   num_bc_tl                       0 non-null      float64\n",
      " 94   num_il_tl                       0 non-null      float64\n",
      " 95   num_op_rev_tl                   0 non-null      float64\n",
      " 96   num_rev_accts                   0 non-null      float64\n",
      " 97   num_rev_tl_bal_gt_0             0 non-null      float64\n",
      " 98   num_sats                        0 non-null      float64\n",
      " 99   num_tl_120dpd_2m                0 non-null      float64\n",
      " 100  num_tl_30dpd                    0 non-null      float64\n",
      " 101  num_tl_90g_dpd_24m              0 non-null      float64\n",
      " 102  num_tl_op_past_12m              0 non-null      float64\n",
      " 103  pct_tl_nvr_dlq                  0 non-null      float64\n",
      " 104  percent_bc_gt_75                0 non-null      float64\n",
      " 105  pub_rec_bankruptcies            39020 non-null  float64\n",
      " 106  tax_liens                       39678 non-null  float64\n",
      " 107  tot_hi_cred_lim                 0 non-null      float64\n",
      " 108  total_bal_ex_mort               0 non-null      float64\n",
      " 109  total_bc_limit                  0 non-null      float64\n",
      " 110  total_il_high_credit_limit      0 non-null      float64\n",
      "dtypes: float64(74), int64(13), object(24)\n",
      "memory usage: 33.6+ MB\n"
     ]
    },
    {
     "name": "stderr",
     "output_type": "stream",
     "text": [
      "<ipython-input-7-a8ed3c25b89c>:2: FutureWarning: null_counts is deprecated. Use show_counts instead\n",
      "  df.info(verbose = True, null_counts = True)\n"
     ]
    }
   ],
   "source": [
    "# Checking dtype and null value count for all the columns\n",
    "df.info(verbose = True, null_counts = True)"
   ]
  },
  {
   "cell_type": "code",
   "execution_count": 8,
   "id": "c201f13b",
   "metadata": {},
   "outputs": [
    {
     "data": {
      "text/plain": [
       "54"
      ]
     },
     "execution_count": 8,
     "metadata": {},
     "output_type": "execute_result"
    }
   ],
   "source": [
    "# Count of all null value columns\n",
    "df.isnull().all(axis=0).sum()"
   ]
  },
  {
   "cell_type": "code",
   "execution_count": 9,
   "id": "a5feacd2",
   "metadata": {},
   "outputs": [],
   "source": [
    "# Creating a copy of the dataset by removing all columns which are having all null values\n",
    "df_1 = df.dropna(axis=1,how='all').copy()"
   ]
  },
  {
   "cell_type": "code",
   "execution_count": 10,
   "id": "0ac99441",
   "metadata": {},
   "outputs": [
    {
     "name": "stdout",
     "output_type": "stream",
     "text": [
      "<class 'pandas.core.frame.DataFrame'>\n",
      "RangeIndex: 39717 entries, 0 to 39716\n",
      "Data columns (total 57 columns):\n",
      " #   Column                      Non-Null Count  Dtype  \n",
      "---  ------                      --------------  -----  \n",
      " 0   id                          39717 non-null  int64  \n",
      " 1   member_id                   39717 non-null  int64  \n",
      " 2   loan_amnt                   39717 non-null  int64  \n",
      " 3   funded_amnt                 39717 non-null  int64  \n",
      " 4   funded_amnt_inv             39717 non-null  float64\n",
      " 5   term                        39717 non-null  object \n",
      " 6   int_rate                    39717 non-null  object \n",
      " 7   installment                 39717 non-null  float64\n",
      " 8   grade                       39717 non-null  object \n",
      " 9   sub_grade                   39717 non-null  object \n",
      " 10  emp_title                   37258 non-null  object \n",
      " 11  emp_length                  38642 non-null  object \n",
      " 12  home_ownership              39717 non-null  object \n",
      " 13  annual_inc                  39717 non-null  float64\n",
      " 14  verification_status         39717 non-null  object \n",
      " 15  issue_d                     39717 non-null  object \n",
      " 16  loan_status                 39717 non-null  object \n",
      " 17  pymnt_plan                  39717 non-null  object \n",
      " 18  url                         39717 non-null  object \n",
      " 19  desc                        26777 non-null  object \n",
      " 20  purpose                     39717 non-null  object \n",
      " 21  title                       39706 non-null  object \n",
      " 22  zip_code                    39717 non-null  object \n",
      " 23  addr_state                  39717 non-null  object \n",
      " 24  dti                         39717 non-null  float64\n",
      " 25  delinq_2yrs                 39717 non-null  int64  \n",
      " 26  earliest_cr_line            39717 non-null  object \n",
      " 27  inq_last_6mths              39717 non-null  int64  \n",
      " 28  mths_since_last_delinq      14035 non-null  float64\n",
      " 29  mths_since_last_record      2786 non-null   float64\n",
      " 30  open_acc                    39717 non-null  int64  \n",
      " 31  pub_rec                     39717 non-null  int64  \n",
      " 32  revol_bal                   39717 non-null  int64  \n",
      " 33  revol_util                  39667 non-null  object \n",
      " 34  total_acc                   39717 non-null  int64  \n",
      " 35  initial_list_status         39717 non-null  object \n",
      " 36  out_prncp                   39717 non-null  float64\n",
      " 37  out_prncp_inv               39717 non-null  float64\n",
      " 38  total_pymnt                 39717 non-null  float64\n",
      " 39  total_pymnt_inv             39717 non-null  float64\n",
      " 40  total_rec_prncp             39717 non-null  float64\n",
      " 41  total_rec_int               39717 non-null  float64\n",
      " 42  total_rec_late_fee          39717 non-null  float64\n",
      " 43  recoveries                  39717 non-null  float64\n",
      " 44  collection_recovery_fee     39717 non-null  float64\n",
      " 45  last_pymnt_d                39646 non-null  object \n",
      " 46  last_pymnt_amnt             39717 non-null  float64\n",
      " 47  next_pymnt_d                1140 non-null   object \n",
      " 48  last_credit_pull_d          39715 non-null  object \n",
      " 49  collections_12_mths_ex_med  39661 non-null  float64\n",
      " 50  policy_code                 39717 non-null  int64  \n",
      " 51  application_type            39717 non-null  object \n",
      " 52  acc_now_delinq              39717 non-null  int64  \n",
      " 53  chargeoff_within_12_mths    39661 non-null  float64\n",
      " 54  delinq_amnt                 39717 non-null  int64  \n",
      " 55  pub_rec_bankruptcies        39020 non-null  float64\n",
      " 56  tax_liens                   39678 non-null  float64\n",
      "dtypes: float64(20), int64(13), object(24)\n",
      "memory usage: 17.3+ MB\n"
     ]
    }
   ],
   "source": [
    "# Confirming whether all null value columns are only dropped\n",
    "# total there are 111 columns and 54 columns have all values 0 so the remaining are 111-54 = 57 columns\n",
    "df_1.info()"
   ]
  },
  {
   "cell_type": "code",
   "execution_count": 11,
   "id": "dbdc186e",
   "metadata": {},
   "outputs": [
    {
     "data": {
      "text/plain": [
       "next_pymnt_d                  97.129693\n",
       "mths_since_last_record        92.985372\n",
       "mths_since_last_delinq        64.662487\n",
       "desc                          32.580507\n",
       "emp_title                      6.191303\n",
       "emp_length                     2.706650\n",
       "pub_rec_bankruptcies           1.754916\n",
       "last_pymnt_d                   0.178765\n",
       "chargeoff_within_12_mths       0.140998\n",
       "collections_12_mths_ex_med     0.140998\n",
       "revol_util                     0.125891\n",
       "tax_liens                      0.098195\n",
       "title                          0.027696\n",
       "last_credit_pull_d             0.005036\n",
       "home_ownership                 0.000000\n",
       "int_rate                       0.000000\n",
       "out_prncp_inv                  0.000000\n",
       "total_pymnt                    0.000000\n",
       "total_pymnt_inv                0.000000\n",
       "total_rec_prncp                0.000000\n",
       "total_rec_int                  0.000000\n",
       "total_rec_late_fee             0.000000\n",
       "recoveries                     0.000000\n",
       "collection_recovery_fee        0.000000\n",
       "term                           0.000000\n",
       "last_pymnt_amnt                0.000000\n",
       "initial_list_status            0.000000\n",
       "funded_amnt_inv                0.000000\n",
       "policy_code                    0.000000\n",
       "application_type               0.000000\n",
       "acc_now_delinq                 0.000000\n",
       "funded_amnt                    0.000000\n",
       "delinq_amnt                    0.000000\n",
       "loan_amnt                      0.000000\n",
       "out_prncp                      0.000000\n",
       "total_acc                      0.000000\n",
       "annual_inc                     0.000000\n",
       "addr_state                     0.000000\n",
       "verification_status            0.000000\n",
       "issue_d                        0.000000\n",
       "loan_status                    0.000000\n",
       "pymnt_plan                     0.000000\n",
       "url                            0.000000\n",
       "sub_grade                      0.000000\n",
       "purpose                        0.000000\n",
       "zip_code                       0.000000\n",
       "dti                            0.000000\n",
       "installment                    0.000000\n",
       "delinq_2yrs                    0.000000\n",
       "earliest_cr_line               0.000000\n",
       "inq_last_6mths                 0.000000\n",
       "member_id                      0.000000\n",
       "grade                          0.000000\n",
       "open_acc                       0.000000\n",
       "pub_rec                        0.000000\n",
       "revol_bal                      0.000000\n",
       "id                             0.000000\n",
       "dtype: float64"
      ]
     },
     "execution_count": 11,
     "metadata": {},
     "output_type": "execute_result"
    }
   ],
   "source": [
    "#Calculating the percentage of missing values in df_1\n",
    "((df_1.isnull().sum()/len(df_1))*100).sort_values(ascending = False)"
   ]
  },
  {
   "cell_type": "code",
   "execution_count": 12,
   "id": "f39a774e",
   "metadata": {},
   "outputs": [],
   "source": [
    "# dropping columns having threshold greater than 30%\n",
    "df_1.drop(['next_pymnt_d','mths_since_last_record','mths_since_last_delinq','desc'],inplace=True,axis=1)"
   ]
  },
  {
   "cell_type": "code",
   "execution_count": 13,
   "id": "0d7740cc",
   "metadata": {},
   "outputs": [
    {
     "data": {
      "text/plain": [
       "emp_title                     6.191303\n",
       "emp_length                    2.706650\n",
       "pub_rec_bankruptcies          1.754916\n",
       "last_pymnt_d                  0.178765\n",
       "collections_12_mths_ex_med    0.140998\n",
       "chargeoff_within_12_mths      0.140998\n",
       "revol_util                    0.125891\n",
       "tax_liens                     0.098195\n",
       "title                         0.027696\n",
       "last_credit_pull_d            0.005036\n",
       "total_rec_prncp               0.000000\n",
       "out_prncp                     0.000000\n",
       "initial_list_status           0.000000\n",
       "out_prncp_inv                 0.000000\n",
       "total_acc                     0.000000\n",
       "total_pymnt                   0.000000\n",
       "total_pymnt_inv               0.000000\n",
       "collection_recovery_fee       0.000000\n",
       "total_rec_int                 0.000000\n",
       "total_rec_late_fee            0.000000\n",
       "recoveries                    0.000000\n",
       "pub_rec                       0.000000\n",
       "last_pymnt_amnt               0.000000\n",
       "policy_code                   0.000000\n",
       "application_type              0.000000\n",
       "acc_now_delinq                0.000000\n",
       "delinq_amnt                   0.000000\n",
       "revol_bal                     0.000000\n",
       "id                            0.000000\n",
       "open_acc                      0.000000\n",
       "member_id                     0.000000\n",
       "loan_amnt                     0.000000\n",
       "funded_amnt                   0.000000\n",
       "funded_amnt_inv               0.000000\n",
       "term                          0.000000\n",
       "int_rate                      0.000000\n",
       "installment                   0.000000\n",
       "grade                         0.000000\n",
       "sub_grade                     0.000000\n",
       "home_ownership                0.000000\n",
       "annual_inc                    0.000000\n",
       "verification_status           0.000000\n",
       "issue_d                       0.000000\n",
       "loan_status                   0.000000\n",
       "pymnt_plan                    0.000000\n",
       "url                           0.000000\n",
       "purpose                       0.000000\n",
       "zip_code                      0.000000\n",
       "addr_state                    0.000000\n",
       "dti                           0.000000\n",
       "delinq_2yrs                   0.000000\n",
       "earliest_cr_line              0.000000\n",
       "inq_last_6mths                0.000000\n",
       "dtype: float64"
      ]
     },
     "execution_count": 13,
     "metadata": {},
     "output_type": "execute_result"
    }
   ],
   "source": [
    "((df_1.isnull().sum()/len(df_1))*100).sort_values(ascending = False)"
   ]
  },
  {
   "cell_type": "code",
   "execution_count": 14,
   "id": "6b79752e",
   "metadata": {},
   "outputs": [
    {
     "data": {
      "text/plain": [
       "0"
      ]
     },
     "execution_count": 14,
     "metadata": {},
     "output_type": "execute_result"
    }
   ],
   "source": [
    "#checking if all values in a row are blank or Null\n",
    "df_1.isnull().all(axis=1).sum()"
   ]
  },
  {
   "cell_type": "code",
   "execution_count": 15,
   "id": "b137bbff",
   "metadata": {},
   "outputs": [
    {
     "data": {
      "text/plain": [
       "False    39717\n",
       "dtype: int64"
      ]
     },
     "execution_count": 15,
     "metadata": {},
     "output_type": "execute_result"
    }
   ],
   "source": [
    "#checking if any duplicate rows available based on id column\n",
    "df_1.duplicated(subset = 'id').value_counts()"
   ]
  },
  {
   "cell_type": "code",
   "execution_count": 16,
   "id": "922b31a3",
   "metadata": {},
   "outputs": [
    {
     "name": "stdout",
     "output_type": "stream",
     "text": [
      "<class 'pandas.core.frame.DataFrame'>\n",
      "RangeIndex: 39717 entries, 0 to 39716\n",
      "Data columns (total 53 columns):\n",
      " #   Column                      Non-Null Count  Dtype  \n",
      "---  ------                      --------------  -----  \n",
      " 0   id                          39717 non-null  int64  \n",
      " 1   member_id                   39717 non-null  int64  \n",
      " 2   loan_amnt                   39717 non-null  int64  \n",
      " 3   funded_amnt                 39717 non-null  int64  \n",
      " 4   funded_amnt_inv             39717 non-null  float64\n",
      " 5   term                        39717 non-null  object \n",
      " 6   int_rate                    39717 non-null  object \n",
      " 7   installment                 39717 non-null  float64\n",
      " 8   grade                       39717 non-null  object \n",
      " 9   sub_grade                   39717 non-null  object \n",
      " 10  emp_title                   37258 non-null  object \n",
      " 11  emp_length                  38642 non-null  object \n",
      " 12  home_ownership              39717 non-null  object \n",
      " 13  annual_inc                  39717 non-null  float64\n",
      " 14  verification_status         39717 non-null  object \n",
      " 15  issue_d                     39717 non-null  object \n",
      " 16  loan_status                 39717 non-null  object \n",
      " 17  pymnt_plan                  39717 non-null  object \n",
      " 18  url                         39717 non-null  object \n",
      " 19  purpose                     39717 non-null  object \n",
      " 20  title                       39706 non-null  object \n",
      " 21  zip_code                    39717 non-null  object \n",
      " 22  addr_state                  39717 non-null  object \n",
      " 23  dti                         39717 non-null  float64\n",
      " 24  delinq_2yrs                 39717 non-null  int64  \n",
      " 25  earliest_cr_line            39717 non-null  object \n",
      " 26  inq_last_6mths              39717 non-null  int64  \n",
      " 27  open_acc                    39717 non-null  int64  \n",
      " 28  pub_rec                     39717 non-null  int64  \n",
      " 29  revol_bal                   39717 non-null  int64  \n",
      " 30  revol_util                  39667 non-null  object \n",
      " 31  total_acc                   39717 non-null  int64  \n",
      " 32  initial_list_status         39717 non-null  object \n",
      " 33  out_prncp                   39717 non-null  float64\n",
      " 34  out_prncp_inv               39717 non-null  float64\n",
      " 35  total_pymnt                 39717 non-null  float64\n",
      " 36  total_pymnt_inv             39717 non-null  float64\n",
      " 37  total_rec_prncp             39717 non-null  float64\n",
      " 38  total_rec_int               39717 non-null  float64\n",
      " 39  total_rec_late_fee          39717 non-null  float64\n",
      " 40  recoveries                  39717 non-null  float64\n",
      " 41  collection_recovery_fee     39717 non-null  float64\n",
      " 42  last_pymnt_d                39646 non-null  object \n",
      " 43  last_pymnt_amnt             39717 non-null  float64\n",
      " 44  last_credit_pull_d          39715 non-null  object \n",
      " 45  collections_12_mths_ex_med  39661 non-null  float64\n",
      " 46  policy_code                 39717 non-null  int64  \n",
      " 47  application_type            39717 non-null  object \n",
      " 48  acc_now_delinq              39717 non-null  int64  \n",
      " 49  chargeoff_within_12_mths    39661 non-null  float64\n",
      " 50  delinq_amnt                 39717 non-null  int64  \n",
      " 51  pub_rec_bankruptcies        39020 non-null  float64\n",
      " 52  tax_liens                   39678 non-null  float64\n",
      "dtypes: float64(18), int64(13), object(22)\n",
      "memory usage: 16.1+ MB\n"
     ]
    }
   ],
   "source": [
    "df_1.info()"
   ]
  },
  {
   "cell_type": "code",
   "execution_count": 17,
   "id": "e2f2de79",
   "metadata": {},
   "outputs": [],
   "source": [
    "# converting the int_rate from object to float type\n",
    "df_1['int_rate'] = df_1['int_rate'].apply(lambda x: pd.to_numeric(x.split(\"%\")[0]))"
   ]
  },
  {
   "cell_type": "code",
   "execution_count": 18,
   "id": "060704ef",
   "metadata": {
    "scrolled": true
   },
   "outputs": [
    {
     "data": {
      "text/plain": [
       "0        10.65\n",
       "1        15.27\n",
       "2        15.96\n",
       "3        13.49\n",
       "4        12.69\n",
       "         ...  \n",
       "39712     8.07\n",
       "39713    10.28\n",
       "39714     8.07\n",
       "39715     7.43\n",
       "39716    13.75\n",
       "Name: int_rate, Length: 39717, dtype: float64"
      ]
     },
     "execution_count": 18,
     "metadata": {},
     "output_type": "execute_result"
    }
   ],
   "source": [
    "df_1['int_rate']"
   ]
  },
  {
   "cell_type": "code",
   "execution_count": 19,
   "id": "aec21072",
   "metadata": {},
   "outputs": [
    {
     "data": {
      "text/plain": [
       "1075"
      ]
     },
     "execution_count": 19,
     "metadata": {},
     "output_type": "execute_result"
    }
   ],
   "source": [
    "df_1['emp_length'].isnull().sum()"
   ]
  },
  {
   "cell_type": "code",
   "execution_count": 20,
   "id": "6157e0ca",
   "metadata": {},
   "outputs": [
    {
     "data": {
      "text/plain": [
       "array(['10+ years', '< 1 year', '1 year', '3 years', '8 years', '9 years',\n",
       "       '4 years', '5 years', '6 years', '2 years', '7 years', nan],\n",
       "      dtype=object)"
      ]
     },
     "execution_count": 20,
     "metadata": {},
     "output_type": "execute_result"
    }
   ],
   "source": [
    "df_1['emp_length'].unique()"
   ]
  },
  {
   "cell_type": "code",
   "execution_count": 21,
   "id": "4157ffe1",
   "metadata": {},
   "outputs": [],
   "source": [
    "# dropping null values in employment length because if we dont have data for employment length then it would be difficult to give loan\n",
    "df_1 = df_1[~df_1['emp_length'].isnull()]"
   ]
  },
  {
   "cell_type": "code",
   "execution_count": 22,
   "id": "df168e0d",
   "metadata": {},
   "outputs": [
    {
     "data": {
      "text/plain": [
       "(38642, 53)"
      ]
     },
     "execution_count": 22,
     "metadata": {},
     "output_type": "execute_result"
    }
   ],
   "source": [
    "df_1.shape"
   ]
  },
  {
   "cell_type": "code",
   "execution_count": 23,
   "id": "f7380ec7",
   "metadata": {},
   "outputs": [],
   "source": [
    "# creating a derived metric for converting emp_length to number\n",
    "import re\n",
    "df_1['emp_length_num'] = df_1['emp_length'].apply(lambda x:pd.to_numeric(re.findall('\\d+',str(x))[0]))"
   ]
  },
  {
   "cell_type": "code",
   "execution_count": 24,
   "id": "6406b167",
   "metadata": {},
   "outputs": [
    {
     "data": {
      "text/plain": [
       "0        10\n",
       "1         1\n",
       "2        10\n",
       "3        10\n",
       "4         1\n",
       "         ..\n",
       "39712     4\n",
       "39713     3\n",
       "39714     1\n",
       "39715     1\n",
       "39716     1\n",
       "Name: emp_length_num, Length: 38642, dtype: int64"
      ]
     },
     "execution_count": 24,
     "metadata": {},
     "output_type": "execute_result"
    }
   ],
   "source": [
    "#emp_lenth_num is the numeric value of emp_length\n",
    "df_1['emp_length_num']"
   ]
  },
  {
   "cell_type": "code",
   "execution_count": 25,
   "id": "310484f9",
   "metadata": {},
   "outputs": [],
   "source": [
    "# to remove month keyword at the end of term\n",
    "df_1['term'] = df_1['term'].apply(lambda x:pd.to_numeric(re.findall('\\d+',str(x))[0]))"
   ]
  },
  {
   "cell_type": "code",
   "execution_count": 26,
   "id": "67de309d",
   "metadata": {},
   "outputs": [],
   "source": [
    "# As customer behavioural columns are not availble during the loan application time thus we cannot use them to predict for credit approval\n",
    "customer_behavioural_column =  [\n",
    "  \"delinq_2yrs\",\n",
    "  \"earliest_cr_line\",\n",
    "  \"inq_last_6mths\",\n",
    "  \"open_acc\",\n",
    "  \"pub_rec\",\n",
    "  \"revol_bal\",\n",
    "  \"revol_util\",\n",
    "  \"total_acc\",\n",
    "  \"out_prncp\",\n",
    "  \"out_prncp_inv\",\n",
    "  \"total_pymnt\",\n",
    "  \"total_pymnt_inv\",\n",
    "  \"total_rec_prncp\",\n",
    "  \"total_rec_int\",\n",
    "  \"total_rec_late_fee\",\n",
    "  \"recoveries\",\n",
    "  \"collection_recovery_fee\",\n",
    "  \"last_pymnt_d\",\n",
    "  \"last_pymnt_amnt\",\n",
    "  \"last_credit_pull_d\",\n",
    "  \"application_type\"]\n"
   ]
  },
  {
   "cell_type": "code",
   "execution_count": 27,
   "id": "0617f19d",
   "metadata": {},
   "outputs": [
    {
     "name": "stdout",
     "output_type": "stream",
     "text": [
      "<class 'pandas.core.frame.DataFrame'>\n",
      "Int64Index: 38642 entries, 0 to 39716\n",
      "Data columns (total 33 columns):\n",
      " #   Column                      Non-Null Count  Dtype  \n",
      "---  ------                      --------------  -----  \n",
      " 0   id                          38642 non-null  int64  \n",
      " 1   member_id                   38642 non-null  int64  \n",
      " 2   loan_amnt                   38642 non-null  int64  \n",
      " 3   funded_amnt                 38642 non-null  int64  \n",
      " 4   funded_amnt_inv             38642 non-null  float64\n",
      " 5   term                        38642 non-null  int64  \n",
      " 6   int_rate                    38642 non-null  float64\n",
      " 7   installment                 38642 non-null  float64\n",
      " 8   grade                       38642 non-null  object \n",
      " 9   sub_grade                   38642 non-null  object \n",
      " 10  emp_title                   37202 non-null  object \n",
      " 11  emp_length                  38642 non-null  object \n",
      " 12  home_ownership              38642 non-null  object \n",
      " 13  annual_inc                  38642 non-null  float64\n",
      " 14  verification_status         38642 non-null  object \n",
      " 15  issue_d                     38642 non-null  object \n",
      " 16  loan_status                 38642 non-null  object \n",
      " 17  pymnt_plan                  38642 non-null  object \n",
      " 18  url                         38642 non-null  object \n",
      " 19  purpose                     38642 non-null  object \n",
      " 20  title                       38632 non-null  object \n",
      " 21  zip_code                    38642 non-null  object \n",
      " 22  addr_state                  38642 non-null  object \n",
      " 23  dti                         38642 non-null  float64\n",
      " 24  initial_list_status         38642 non-null  object \n",
      " 25  collections_12_mths_ex_med  38586 non-null  float64\n",
      " 26  policy_code                 38642 non-null  int64  \n",
      " 27  acc_now_delinq              38642 non-null  int64  \n",
      " 28  chargeoff_within_12_mths    38586 non-null  float64\n",
      " 29  delinq_amnt                 38642 non-null  int64  \n",
      " 30  pub_rec_bankruptcies        37945 non-null  float64\n",
      " 31  tax_liens                   38603 non-null  float64\n",
      " 32  emp_length_num              38642 non-null  int64  \n",
      "dtypes: float64(9), int64(9), object(15)\n",
      "memory usage: 10.0+ MB\n"
     ]
    }
   ],
   "source": [
    "df_1 = df_1.drop(customer_behavioural_column,axis=1)\n",
    "df_1.info()"
   ]
  },
  {
   "cell_type": "code",
   "execution_count": 28,
   "id": "37823a05",
   "metadata": {},
   "outputs": [
    {
     "data": {
      "text/plain": [
       "array(['Computer', 'bike', 'real estate business', ...,\n",
       "       'Retiring credit card debt', 'MBA Loan Consolidation', 'JAL Loan'],\n",
       "      dtype=object)"
      ]
     },
     "execution_count": 28,
     "metadata": {},
     "output_type": "execute_result"
    }
   ],
   "source": [
    "df_1['title'].unique()"
   ]
  },
  {
   "cell_type": "code",
   "execution_count": 29,
   "id": "f93097de",
   "metadata": {},
   "outputs": [
    {
     "data": {
      "text/plain": [
       "array(['https://lendingclub.com/browse/loanDetail.action?loan_id=1077501',\n",
       "       'https://lendingclub.com/browse/loanDetail.action?loan_id=1077430',\n",
       "       'https://lendingclub.com/browse/loanDetail.action?loan_id=1077175',\n",
       "       ...,\n",
       "       'https://lendingclub.com/browse/loanDetail.action?loan_id=90395',\n",
       "       'https://lendingclub.com/browse/loanDetail.action?loan_id=90376',\n",
       "       'https://lendingclub.com/browse/loanDetail.action?loan_id=87023'],\n",
       "      dtype=object)"
      ]
     },
     "execution_count": 29,
     "metadata": {},
     "output_type": "execute_result"
    }
   ],
   "source": [
    "df_1['url'].unique()"
   ]
  },
  {
   "cell_type": "code",
   "execution_count": 30,
   "id": "13070d5a",
   "metadata": {},
   "outputs": [
    {
     "data": {
      "text/plain": [
       "array(['860xx', '309xx', '606xx', '917xx', '972xx', '852xx', '280xx',\n",
       "       '900xx', '958xx', '774xx', '853xx', '913xx', '245xx', '951xx',\n",
       "       '641xx', '921xx', '067xx', '890xx', '770xx', '335xx', '799xx',\n",
       "       '605xx', '103xx', '150xx', '326xx', '564xx', '141xx', '080xx',\n",
       "       '330xx', '974xx', '934xx', '405xx', '946xx', '445xx', '850xx',\n",
       "       '604xx', '292xx', '088xx', '180xx', '029xx', '700xx', '010xx',\n",
       "       '441xx', '104xx', '061xx', '616xx', '947xx', '914xx', '765xx',\n",
       "       '980xx', '017xx', '752xx', '787xx', '077xx', '540xx', '225xx',\n",
       "       '440xx', '437xx', '559xx', '912xx', '325xx', '300xx', '923xx',\n",
       "       '352xx', '013xx', '146xx', '074xx', '786xx', '937xx', '331xx',\n",
       "       '115xx', '191xx', '114xx', '908xx', '902xx', '992xx', '750xx',\n",
       "       '950xx', '329xx', '226xx', '614xx', '802xx', '672xx', '083xx',\n",
       "       '100xx', '926xx', '931xx', '712xx', '060xx', '707xx', '342xx',\n",
       "       '895xx', '430xx', '919xx', '996xx', '891xx', '935xx', '801xx',\n",
       "       '928xx', '233xx', '927xx', '970xx', '211xx', '303xx', '070xx',\n",
       "       '194xx', '263xx', '403xx', '301xx', '553xx', '993xx', '312xx',\n",
       "       '432xx', '602xx', '216xx', '151xx', '971xx', '305xx', '334xx',\n",
       "       '050xx', '129xx', '925xx', '483xx', '760xx', '961xx', '200xx',\n",
       "       '085xx', '981xx', '601xx', '117xx', '063xx', '920xx', '543xx',\n",
       "       '775xx', '570xx', '038xx', '221xx', '985xx', '113xx', '275xx',\n",
       "       '236xx', '148xx', '028xx', '450xx', '532xx', '729xx', '321xx',\n",
       "       '959xx', '941xx', '955xx', '217xx', '880xx', '660xx', '062xx',\n",
       "       '193xx', '761xx', '857xx', '306xx', '271xx', '142xx', '956xx',\n",
       "       '983xx', '945xx', '109xx', '112xx', '187xx', '630xx', '435xx',\n",
       "       '488xx', '287xx', '705xx', '592xx', '318xx', '549xx', '212xx',\n",
       "       '347xx', '274xx', '265xx', '785xx', '027xx', '089xx', '813xx',\n",
       "       '069xx', '260xx', '201xx', '349xx', '322xx', '075xx', '124xx',\n",
       "       '940xx', '967xx', '111xx', '773xx', '997xx', '076xx', '538xx',\n",
       "       '021xx', '304xx', '234xx', '308xx', '809xx', '071xx', '363xx',\n",
       "       '296xx', '240xx', '830xx', '011xx', '622xx', '207xx', '140xx',\n",
       "       '336xx', '619xx', '208xx', '618xx', '014xx', '644xx', '283xx',\n",
       "       '276xx', '631xx', '243xx', '960xx', '181xx', '922xx', '224xx',\n",
       "       '975xx', '105xx', '986xx', '218xx', '652xx', '782xx', '410xx',\n",
       "       '480xx', '328xx', '719xx', '982xx', '065xx', '081xx', '954xx',\n",
       "       '346xx', '442xx', '025xx', '122xx', '173xx', '282xx', '120xx',\n",
       "       '082xx', '766xx', '229xx', '840xx', '744xx', '933xx', '451xx',\n",
       "       '907xx', '728xx', '159xx', '333xx', '293xx', '701xx', '984xx',\n",
       "       '811xx', '597xx', '957xx', '165xx', '720xx', '119xx', '359xx',\n",
       "       '195xx', '084xx', '969xx', '924xx', '531xx', '716xx', '337xx',\n",
       "       '841xx', '323xx', '740xx', '179xx', '805xx', '285xx', '551xx',\n",
       "       '658xx', '944xx', '232xx', '905xx', '600xx', '327xx', '711xx',\n",
       "       '906xx', '444xx', '856xx', '777xx', '072xx', '554xx', '145xx',\n",
       "       '537xx', '152xx', '847xx', '295xx', '829xx', '320xx', '131xx',\n",
       "       '939xx', '572xx', '281xx', '064xx', '550xx', '078xx', '452xx',\n",
       "       '778xx', '313xx', '851xx', '784xx', '804xx', '571xx', '210xx',\n",
       "       '988xx', '400xx', '995xx', '023xx', '158xx', '657xx', '016xx',\n",
       "       '019xx', '290xx', '190xx', '366xx', '066xx', '991xx', '968xx',\n",
       "       '721xx', '439xx', '640xx', '546xx', '024xx', '751xx', '431xx',\n",
       "       '741xx', '904xx', '156xx', '316xx', '299xx', '087xx', '739xx',\n",
       "       '949xx', '261xx', '073xx', '222xx', '244xx', '617xx', '018xx',\n",
       "       '286xx', '759xx', '952xx', '930xx', '911xx', '220xx', '731xx',\n",
       "       '730xx', '262xx', '338xx', '160xx', '031xx', '054xx', '223xx',\n",
       "       '272xx', '882xx', '557xx', '797xx', '725xx', '130xx', '030xx',\n",
       "       '206xx', '324xx', '170xx', '291xx', '161xx', '647xx', '916xx',\n",
       "       '665xx', '209xx', '915xx', '110xx', '086xx', '484xx', '844xx',\n",
       "       '020xx', '354xx', '448xx', '978xx', '757xx', '953xx', '577xx',\n",
       "       '315xx', '664xx', '186xx', '182xx', '574xx', '800xx', '197xx',\n",
       "       '137xx', '314xx', '755xx', '973xx', '603xx', '481xx', '780xx',\n",
       "       '894xx', '341xx', '361xx', '178xx', '068xx', '565xx', '611xx',\n",
       "       '288xx', '443xx', '662xx', '874xx', '560xx', '535xx', '499xx',\n",
       "       '162xx', '756xx', '168xx', '827xx', '541xx', '615xx', '989xx',\n",
       "       '037xx', '863xx', '339xx', '367xx', '273xx', '052xx', '623xx',\n",
       "       '416xx', '648xx', '918xx', '436xx', '898xx', '674xx', '496xx',\n",
       "       '294xx', '762xx', '128xx', '903xx', '932xx', '650xx', '246xx',\n",
       "       '633xx', '666xx', '228xx', '015xx', '302xx', '573xx', '118xx',\n",
       "       '998xx', '767xx', '490xx', '350xx', '591xx', '254xx', '566xx',\n",
       "       '596xx', '637xx', '032xx', '763xx', '494xx', '402xx', '545xx',\n",
       "       '184xx', '239xx', '977xx', '297xx', '284xx', '144xx', '748xx',\n",
       "       '310xx', '147xx', '153xx', '544xx', '948xx', '576xx', '976xx',\n",
       "       '107xx', '846xx', '344xx', '351xx', '754xx', '910xx', '656xx',\n",
       "       '357xx', '791xx', '493xx', '855xx', '278xx', '125xx', '175xx',\n",
       "       '530xx', '171xx', '703xx', '620xx', '438xx', '626xx', '307xx',\n",
       "       '636xx', '319xx', '116xx', '645xx', '708xx', '816xx', '625xx',\n",
       "       '133xx', '612xx', '238xx', '166xx', '231xx', '241xx', '826xx',\n",
       "       '783xx', '793xx', '646xx', '188xx', '108xx', '653xx', '871xx',\n",
       "       '057xx', '796xx', '990xx', '219xx', '724xx', '456xx', '214xx',\n",
       "       '237xx', '737xx', '121xx', '199xx', '548xx', '453xx', '704xx',\n",
       "       '368xx', '828xx', '598xx', '136xx', '610xx', '433xx', '722xx',\n",
       "       '743xx', '810xx', '706xx', '235xx', '139xx', '613xx', '454xx',\n",
       "       '317xx', '746xx', '446xx', '486xx', '033xx', '279xx', '407xx',\n",
       "       '803xx', '794xx', '457xx', '189xx', '196xx', '539xx', '424xx',\n",
       "       '492xx', '482xx', '667xx', '845xx', '608xx', '401xx', '362xx',\n",
       "       '627xx', '717xx', '356xx', '607xx', '963xx', '198xx', '936xx',\n",
       "       '713xx', '227xx', '883xx', '563xx', '893xx', '079xx', '806xx',\n",
       "       '360xx', '172xx', '422xx', '768xx', '034xx', '735xx', '870xx',\n",
       "       '012xx', '594xx', '215xx', '628xx', '749xx', '101xx', '814xx',\n",
       "       '255xx', '745xx', '495xx', '132xx', '183xx', '864xx', '106xx',\n",
       "       '663xx', '943xx', '094xx', '177xx', '365xx', '897xx', '776xx',\n",
       "       '843xx', '458xx', '421xx', '253xx', '795xx', '727xx', '528xx',\n",
       "       '270xx', '808xx', '277xx', '447xx', '358xx', '815xx', '250xx',\n",
       "       '230xx', '790xx', '884xx', '242xx', '534xx', '404xx', '397xx',\n",
       "       '434xx', '671xx', '655xx', '675xx', '053xx', '859xx', '126xx',\n",
       "       '102xx', '256xx', '673xx', '489xx', '258xx', '423xx', '497xx',\n",
       "       '788xx', '127xx', '176xx', '380xx', '058xx', '635xx', '498xx',\n",
       "       '820xx', '599xx', '822xx', '638xx', '723xx', '449xx', '420xx',\n",
       "       '157xx', '726xx', '185xx', '527xx', '298xx', '769xx', '257xx',\n",
       "       '881xx', '575xx', '624xx', '134xx', '877xx', '781xx', '718xx',\n",
       "       '670xx', '138xx', '026xx', '678xx', '398xx', '411xx', '149xx',\n",
       "       '247xx', '875xx', '838xx', '651xx', '364xx', '203xx', '427xx',\n",
       "       '629xx', '355xx', '174xx', '547xx', '567xx', '558xx', '135xx',\n",
       "       '035xx', '999xx', '634xx', '455xx', '143xx', '154xx', '562xx',\n",
       "       '779xx', '561xx', '734xx', '789xx', '812xx', '268xx', '051xx',\n",
       "       '865xx', '406xx', '661xx', '758xx', '676xx', '491xx', '267xx',\n",
       "       '609xx', '595xx', '259xx', '163xx', '264xx', '409xx', '376xx',\n",
       "       '471xx', '375xx', '747xx', '123xx', '714xx', '590xx', '639xx',\n",
       "       '412xx', '425xx', '022xx', '369xx', '164xx', '825xx', '266xx',\n",
       "       '096xx', '487xx', '251xx', '593xx', '169xx', '413xx', '155xx',\n",
       "       '764xx', '710xx', '408xx', '668xx', '056xx', '669xx', '167xx',\n",
       "       '542xx', '679xx', '462xx', '792xx', '824xx', '249xx', '798xx',\n",
       "       '370xx', '485xx', '654xx', '289xx', '807xx', '252xx', '556xx',\n",
       "       '353xx', '677xx', '090xx', '371xx', '831xx', '736xx', '007xx',\n",
       "       '332xx', '468xx', '461xx', '093xx', '248xx', '463xx', '391xx',\n",
       "       '381xx', '415xx', '378xx', '414xx', '396xx', '836xx', '044xx',\n",
       "       '392xx', '772xx', '374xx', '823xx', '395xx', '394xx', '965xx',\n",
       "       '390xx', '388xx', '386xx', '040xx', '385xx', '379xx', '681xx',\n",
       "       '837xx', '373xx', '753xx', '834xx', '383xx', '384xx', '372xx',\n",
       "       '833xx', '522xx', '523xx', '474xx', '465xx', '689xx', '473xx',\n",
       "       '041xx', '685xx', '479xx', '469xx'], dtype=object)"
      ]
     },
     "execution_count": 30,
     "metadata": {},
     "output_type": "execute_result"
    }
   ],
   "source": [
    "df['zip_code'].unique()"
   ]
  },
  {
   "cell_type": "code",
   "execution_count": 31,
   "id": "85a2d8f6",
   "metadata": {},
   "outputs": [],
   "source": [
    "# the columns title,url, zip code and add_state are not relavant to our analysis so, we will be dropping them\n",
    "#url have all the id values which are currently available in id column\n",
    "#title have lot of unique values so we cannot make any analysis\n",
    "df_1 = df_1.drop(['title','zip_code','url','addr_state'],axis=1)"
   ]
  },
  {
   "cell_type": "code",
   "execution_count": 32,
   "id": "132d7c7f",
   "metadata": {
    "scrolled": true
   },
   "outputs": [
    {
     "name": "stdout",
     "output_type": "stream",
     "text": [
      "<class 'pandas.core.frame.DataFrame'>\n",
      "Int64Index: 38642 entries, 0 to 39716\n",
      "Data columns (total 29 columns):\n",
      " #   Column                      Non-Null Count  Dtype  \n",
      "---  ------                      --------------  -----  \n",
      " 0   id                          38642 non-null  int64  \n",
      " 1   member_id                   38642 non-null  int64  \n",
      " 2   loan_amnt                   38642 non-null  int64  \n",
      " 3   funded_amnt                 38642 non-null  int64  \n",
      " 4   funded_amnt_inv             38642 non-null  float64\n",
      " 5   term                        38642 non-null  int64  \n",
      " 6   int_rate                    38642 non-null  float64\n",
      " 7   installment                 38642 non-null  float64\n",
      " 8   grade                       38642 non-null  object \n",
      " 9   sub_grade                   38642 non-null  object \n",
      " 10  emp_title                   37202 non-null  object \n",
      " 11  emp_length                  38642 non-null  object \n",
      " 12  home_ownership              38642 non-null  object \n",
      " 13  annual_inc                  38642 non-null  float64\n",
      " 14  verification_status         38642 non-null  object \n",
      " 15  issue_d                     38642 non-null  object \n",
      " 16  loan_status                 38642 non-null  object \n",
      " 17  pymnt_plan                  38642 non-null  object \n",
      " 18  purpose                     38642 non-null  object \n",
      " 19  dti                         38642 non-null  float64\n",
      " 20  initial_list_status         38642 non-null  object \n",
      " 21  collections_12_mths_ex_med  38586 non-null  float64\n",
      " 22  policy_code                 38642 non-null  int64  \n",
      " 23  acc_now_delinq              38642 non-null  int64  \n",
      " 24  chargeoff_within_12_mths    38586 non-null  float64\n",
      " 25  delinq_amnt                 38642 non-null  int64  \n",
      " 26  pub_rec_bankruptcies        37945 non-null  float64\n",
      " 27  tax_liens                   38603 non-null  float64\n",
      " 28  emp_length_num              38642 non-null  int64  \n",
      "dtypes: float64(9), int64(9), object(11)\n",
      "memory usage: 8.8+ MB\n"
     ]
    }
   ],
   "source": [
    "df_1.info()"
   ]
  },
  {
   "cell_type": "code",
   "execution_count": 33,
   "id": "c4a7ec5c",
   "metadata": {},
   "outputs": [
    {
     "data": {
      "text/plain": [
       "array(['Fully Paid', 'Charged Off', 'Current'], dtype=object)"
      ]
     },
     "execution_count": 33,
     "metadata": {},
     "output_type": "execute_result"
    }
   ],
   "source": [
    "# checking unique columns in loan_status\n",
    "df_1['loan_status'].unique()"
   ]
  },
  {
   "cell_type": "code",
   "execution_count": 34,
   "id": "202de0e0",
   "metadata": {},
   "outputs": [],
   "source": [
    "# As per business objective the loan status of a person is current cannot be defaulted\n",
    "# For analysis we would be cosidering population who are Fully Paid or Charge-off\n",
    "df_1 = df_1[df_1['loan_status']!='Current']"
   ]
  },
  {
   "cell_type": "code",
   "execution_count": 35,
   "id": "4fa495a7",
   "metadata": {},
   "outputs": [
    {
     "data": {
      "text/plain": [
       "(37544, 29)"
      ]
     },
     "execution_count": 35,
     "metadata": {},
     "output_type": "execute_result"
    }
   ],
   "source": [
    "df_1.shape"
   ]
  },
  {
   "cell_type": "code",
   "execution_count": 36,
   "id": "ce7a2931",
   "metadata": {},
   "outputs": [
    {
     "data": {
      "text/plain": [
       "<bound method Series.unique of 0        27.65\n",
       "1         1.00\n",
       "2         8.72\n",
       "3        20.00\n",
       "5        11.20\n",
       "         ...  \n",
       "39712    11.33\n",
       "39713     6.40\n",
       "39714     2.30\n",
       "39715     3.72\n",
       "39716    14.29\n",
       "Name: dti, Length: 37544, dtype: float64>"
      ]
     },
     "execution_count": 36,
     "metadata": {},
     "output_type": "execute_result"
    }
   ],
   "source": [
    "df_1.dti.unique"
   ]
  },
  {
   "cell_type": "markdown",
   "id": "03e270a3",
   "metadata": {},
   "source": [
    "## To convert Objects into Dates"
   ]
  },
  {
   "cell_type": "code",
   "execution_count": 37,
   "id": "3094a484",
   "metadata": {},
   "outputs": [
    {
     "data": {
      "text/plain": [
       "0        Dec-11\n",
       "1        Dec-11\n",
       "2        Dec-11\n",
       "3        Dec-11\n",
       "5        Dec-11\n",
       "          ...  \n",
       "39712    Jul-07\n",
       "39713    Jul-07\n",
       "39714    Jul-07\n",
       "39715    Jul-07\n",
       "39716    Jun-07\n",
       "Name: issue_d, Length: 37544, dtype: object"
      ]
     },
     "execution_count": 37,
     "metadata": {},
     "output_type": "execute_result"
    }
   ],
   "source": [
    "df_1['issue_d']"
   ]
  },
  {
   "cell_type": "code",
   "execution_count": 38,
   "id": "968756c0",
   "metadata": {},
   "outputs": [],
   "source": [
    "df_1['issue_d'] = pd.to_datetime(df_1['issue_d'],format='%b-%y',errors = 'ignore')"
   ]
  },
  {
   "cell_type": "code",
   "execution_count": 39,
   "id": "b91bd629",
   "metadata": {},
   "outputs": [
    {
     "data": {
      "text/plain": [
       "0       2011-12-01\n",
       "1       2011-12-01\n",
       "2       2011-12-01\n",
       "3       2011-12-01\n",
       "5       2011-12-01\n",
       "           ...    \n",
       "39712   2007-07-01\n",
       "39713   2007-07-01\n",
       "39714   2007-07-01\n",
       "39715   2007-07-01\n",
       "39716   2007-06-01\n",
       "Name: issue_d, Length: 37544, dtype: datetime64[ns]"
      ]
     },
     "execution_count": 39,
     "metadata": {},
     "output_type": "execute_result"
    }
   ],
   "source": [
    "df_1['issue_d']"
   ]
  },
  {
   "cell_type": "code",
   "execution_count": 40,
   "id": "d5f14661",
   "metadata": {},
   "outputs": [],
   "source": [
    "df_1['year'] = df_1['issue_d'].dt.strftime('%Y')"
   ]
  },
  {
   "cell_type": "code",
   "execution_count": 41,
   "id": "c2503bdd",
   "metadata": {
    "scrolled": false
   },
   "outputs": [
    {
     "data": {
      "text/plain": [
       "2011    19801\n",
       "2010    11214\n",
       "2009     4716\n",
       "2008     1562\n",
       "2007      251\n",
       "Name: year, dtype: int64"
      ]
     },
     "execution_count": 41,
     "metadata": {},
     "output_type": "execute_result"
    }
   ],
   "source": [
    "df_1['year'].value_counts()\n"
   ]
  },
  {
   "cell_type": "code",
   "execution_count": 42,
   "id": "49377d3d",
   "metadata": {},
   "outputs": [],
   "source": [
    "df_1['month']=df_1['issue_d'].dt.strftime('%m')"
   ]
  },
  {
   "cell_type": "code",
   "execution_count": 43,
   "id": "0a408821",
   "metadata": {},
   "outputs": [
    {
     "data": {
      "text/plain": [
       "0        12\n",
       "1        12\n",
       "2        12\n",
       "3        12\n",
       "5        12\n",
       "         ..\n",
       "39712    07\n",
       "39713    07\n",
       "39714    07\n",
       "39715    07\n",
       "39716    06\n",
       "Name: month, Length: 37544, dtype: object"
      ]
     },
     "execution_count": 43,
     "metadata": {},
     "output_type": "execute_result"
    }
   ],
   "source": [
    "df_1['month']"
   ]
  },
  {
   "cell_type": "code",
   "execution_count": 44,
   "id": "95d826a2",
   "metadata": {},
   "outputs": [
    {
     "name": "stdout",
     "output_type": "stream",
     "text": [
      "<class 'pandas.core.frame.DataFrame'>\n",
      "Int64Index: 37544 entries, 0 to 39716\n",
      "Data columns (total 31 columns):\n",
      " #   Column                      Non-Null Count  Dtype         \n",
      "---  ------                      --------------  -----         \n",
      " 0   id                          37544 non-null  int64         \n",
      " 1   member_id                   37544 non-null  int64         \n",
      " 2   loan_amnt                   37544 non-null  int64         \n",
      " 3   funded_amnt                 37544 non-null  int64         \n",
      " 4   funded_amnt_inv             37544 non-null  float64       \n",
      " 5   term                        37544 non-null  int64         \n",
      " 6   int_rate                    37544 non-null  float64       \n",
      " 7   installment                 37544 non-null  float64       \n",
      " 8   grade                       37544 non-null  object        \n",
      " 9   sub_grade                   37544 non-null  object        \n",
      " 10  emp_title                   36136 non-null  object        \n",
      " 11  emp_length                  37544 non-null  object        \n",
      " 12  home_ownership              37544 non-null  object        \n",
      " 13  annual_inc                  37544 non-null  float64       \n",
      " 14  verification_status         37544 non-null  object        \n",
      " 15  issue_d                     37544 non-null  datetime64[ns]\n",
      " 16  loan_status                 37544 non-null  object        \n",
      " 17  pymnt_plan                  37544 non-null  object        \n",
      " 18  purpose                     37544 non-null  object        \n",
      " 19  dti                         37544 non-null  float64       \n",
      " 20  initial_list_status         37544 non-null  object        \n",
      " 21  collections_12_mths_ex_med  37488 non-null  float64       \n",
      " 22  policy_code                 37544 non-null  int64         \n",
      " 23  acc_now_delinq              37544 non-null  int64         \n",
      " 24  chargeoff_within_12_mths    37488 non-null  float64       \n",
      " 25  delinq_amnt                 37544 non-null  int64         \n",
      " 26  pub_rec_bankruptcies        36847 non-null  float64       \n",
      " 27  tax_liens                   37505 non-null  float64       \n",
      " 28  emp_length_num              37544 non-null  int64         \n",
      " 29  year                        37544 non-null  object        \n",
      " 30  month                       37544 non-null  object        \n",
      "dtypes: datetime64[ns](1), float64(9), int64(9), object(12)\n",
      "memory usage: 9.2+ MB\n"
     ]
    }
   ],
   "source": [
    "df_1.info()"
   ]
  },
  {
   "cell_type": "markdown",
   "id": "34a61a18",
   "metadata": {},
   "source": [
    "## Analysis"
   ]
  },
  {
   "cell_type": "code",
   "execution_count": 45,
   "id": "88c3ed1d",
   "metadata": {},
   "outputs": [
    {
     "data": {
      "text/plain": [
       "Fully Paid     0.856195\n",
       "Charged Off    0.143805\n",
       "Name: loan_status, dtype: float64"
      ]
     },
     "execution_count": 45,
     "metadata": {},
     "output_type": "execute_result"
    }
   ],
   "source": [
    "df_1['loan_status'].value_counts(normalize=True)"
   ]
  },
  {
   "cell_type": "code",
   "execution_count": 46,
   "id": "385b01be",
   "metadata": {},
   "outputs": [
    {
     "data": {
      "image/png": "[encoded data removed]",
      "text/plain": [
       "<Figure size 432x288 with 1 Axes>"
      ]
     },
     "metadata": {
      "needs_background": "light"
     },
     "output_type": "display_data"
    }
   ],
   "source": [
    "bars = ('Fully Paid ', 'Charged Off')\n",
    "x_pos = np.arange(len(bars))\n",
    "\n",
    "# Create bars with different colors\n",
    "plt.bar(x_pos,df_1['loan_status'].value_counts(normalize=True) , color=['green', 'red'])\n",
    "# Create names on the x-axis\n",
    "plt.xticks(x_pos, bars)\n",
    "\n",
    "plt.show()\n"
   ]
  },
  {
   "cell_type": "markdown",
   "id": "cde23baf",
   "metadata": {},
   "source": [
    "There are 14 % people who are already defaulted as there status is charged off."
   ]
  },
  {
   "cell_type": "code",
   "execution_count": 48,
   "id": "419b9d3a",
   "metadata": {},
   "outputs": [],
   "source": [
    "df_1['loan_status_number'] = df_1['loan_status'].apply(lambda x: 0 if x=='Fully Paid' else 1)"
   ]
  },
  {
   "cell_type": "markdown",
   "id": "dfb960e7",
   "metadata": {},
   "source": [
    "The people with grade A are safe where as people with Grade G have higher chance of defaulting"
   ]
  },
  {
   "cell_type": "code",
   "execution_count": 49,
   "id": "f23a5eb8",
   "metadata": {
    "scrolled": true
   },
   "outputs": [
    {
     "data": {
      "text/plain": [
       "10+ years    8488\n",
       "< 1 year     4508\n",
       "2 years      4291\n",
       "3 years      4012\n",
       "4 years      3342\n",
       "5 years      3194\n",
       "1 year       3169\n",
       "6 years      2168\n",
       "7 years      1711\n",
       "8 years      1435\n",
       "9 years      1226\n",
       "Name: emp_length, dtype: int64"
      ]
     },
     "execution_count": 49,
     "metadata": {},
     "output_type": "execute_result"
    }
   ],
   "source": [
    "df_1['emp_length'].value_counts()"
   ]
  },
  {
   "cell_type": "code",
   "execution_count": 50,
   "id": "6a666a58",
   "metadata": {},
   "outputs": [
    {
     "data": {
      "text/plain": [
       "Index(['id', 'member_id', 'loan_amnt', 'funded_amnt', 'funded_amnt_inv',\n",
       "       'term', 'int_rate', 'installment', 'grade', 'sub_grade', 'emp_title',\n",
       "       'emp_length', 'home_ownership', 'annual_inc', 'verification_status',\n",
       "       'issue_d', 'loan_status', 'pymnt_plan', 'purpose', 'dti',\n",
       "       'initial_list_status', 'collections_12_mths_ex_med', 'policy_code',\n",
       "       'acc_now_delinq', 'chargeoff_within_12_mths', 'delinq_amnt',\n",
       "       'pub_rec_bankruptcies', 'tax_liens', 'emp_length_num', 'year', 'month',\n",
       "       'loan_status_number'],\n",
       "      dtype='object')"
      ]
     },
     "execution_count": 50,
     "metadata": {},
     "output_type": "execute_result"
    }
   ],
   "source": [
    "df_1.columns"
   ]
  },
  {
   "cell_type": "code",
   "execution_count": 51,
   "id": "40a7f4e2",
   "metadata": {},
   "outputs": [
    {
     "data": {
      "text/plain": [
       "array(['Verified', 'Source Verified', 'Not Verified'], dtype=object)"
      ]
     },
     "execution_count": 51,
     "metadata": {},
     "output_type": "execute_result"
    }
   ],
   "source": [
    "df_1.verification_status.unique()\n"
   ]
  },
  {
   "cell_type": "code",
   "execution_count": 52,
   "id": "fa384e0b",
   "metadata": {
    "scrolled": true
   },
   "outputs": [],
   "source": [
    "df_1['annual_income_bins']=pd.qcut(df_1['annual_inc'],q=5,labels=['very low','low','medium','high','very high'])\n"
   ]
  },
  {
   "cell_type": "code",
   "execution_count": 53,
   "id": "7703e465",
   "metadata": {
    "scrolled": true
   },
   "outputs": [
    {
     "data": {
      "text/plain": [
       "very low     7608\n",
       "high         7548\n",
       "low          7512\n",
       "medium       7455\n",
       "very high    7421\n",
       "Name: annual_income_bins, dtype: int64"
      ]
     },
     "execution_count": 53,
     "metadata": {},
     "output_type": "execute_result"
    }
   ],
   "source": [
    "df_1['annual_income_bins'].value_counts()"
   ]
  },
  {
   "cell_type": "code",
   "execution_count": 124,
   "id": "b2e295f0",
   "metadata": {},
   "outputs": [
    {
     "data": {
      "text/plain": [
       "debt_consolidation    0.470781\n",
       "credit_card           0.130487\n",
       "other                 0.098897\n",
       "home_improvement      0.074180\n",
       "major_purchase        0.055402\n",
       "small_business        0.045547\n",
       "car                   0.038568\n",
       "wedding               0.024318\n",
       "medical               0.017473\n",
       "moving                0.014703\n",
       "house                 0.009429\n",
       "vacation              0.009269\n",
       "educational           0.008443\n",
       "renewable_energy      0.002504\n",
       "Name: purpose, dtype: float64"
      ]
     },
     "execution_count": 124,
     "metadata": {},
     "output_type": "execute_result"
    }
   ],
   "source": [
    "df_1['purpose'].value_counts(normalize=True)"
   ]
  },
  {
   "cell_type": "markdown",
   "id": "a02de264",
   "metadata": {},
   "source": [
    "People usually take loan for debt_consolidation more when compared to other purposes like credit_card etc"
   ]
  },
  {
   "cell_type": "code",
   "execution_count": 55,
   "id": "9d6dc674",
   "metadata": {},
   "outputs": [
    {
     "data": {
      "text/plain": [
       "f    37544\n",
       "Name: initial_list_status, dtype: int64"
      ]
     },
     "execution_count": 55,
     "metadata": {},
     "output_type": "execute_result"
    }
   ],
   "source": [
    "df_1['initial_list_status'].value_counts()"
   ]
  },
  {
   "cell_type": "code",
   "execution_count": 56,
   "id": "136600ef",
   "metadata": {},
   "outputs": [
    {
     "data": {
      "text/plain": [
       "0.0    37488\n",
       "Name: collections_12_mths_ex_med, dtype: int64"
      ]
     },
     "execution_count": 56,
     "metadata": {},
     "output_type": "execute_result"
    }
   ],
   "source": [
    "df_1['collections_12_mths_ex_med'].value_counts()"
   ]
  },
  {
   "cell_type": "code",
   "execution_count": 57,
   "id": "a430bcdd",
   "metadata": {},
   "outputs": [
    {
     "data": {
      "text/plain": [
       "1    37544\n",
       "Name: policy_code, dtype: int64"
      ]
     },
     "execution_count": 57,
     "metadata": {},
     "output_type": "execute_result"
    }
   ],
   "source": [
    "df_1['policy_code'].value_counts()"
   ]
  },
  {
   "cell_type": "code",
   "execution_count": 58,
   "id": "9b5a5ce5",
   "metadata": {},
   "outputs": [
    {
     "data": {
      "text/plain": [
       "0    37544\n",
       "Name: acc_now_delinq, dtype: int64"
      ]
     },
     "execution_count": 58,
     "metadata": {},
     "output_type": "execute_result"
    }
   ],
   "source": [
    "df_1['acc_now_delinq'].value_counts()"
   ]
  },
  {
   "cell_type": "code",
   "execution_count": 59,
   "id": "d0304a94",
   "metadata": {},
   "outputs": [
    {
     "data": {
      "text/plain": [
       "0.0    37488\n",
       "Name: chargeoff_within_12_mths, dtype: int64"
      ]
     },
     "execution_count": 59,
     "metadata": {},
     "output_type": "execute_result"
    }
   ],
   "source": [
    "df_1['chargeoff_within_12_mths'].value_counts()"
   ]
  },
  {
   "cell_type": "code",
   "execution_count": 60,
   "id": "9780cc38",
   "metadata": {},
   "outputs": [
    {
     "data": {
      "text/plain": [
       "0    37544\n",
       "Name: delinq_amnt, dtype: int64"
      ]
     },
     "execution_count": 60,
     "metadata": {},
     "output_type": "execute_result"
    }
   ],
   "source": [
    "df_1['delinq_amnt'].value_counts()"
   ]
  },
  {
   "cell_type": "code",
   "execution_count": 61,
   "id": "b016877c",
   "metadata": {},
   "outputs": [
    {
     "data": {
      "text/plain": [
       "0.0    35312\n",
       "1.0     1530\n",
       "2.0        5\n",
       "Name: pub_rec_bankruptcies, dtype: int64"
      ]
     },
     "execution_count": 61,
     "metadata": {},
     "output_type": "execute_result"
    }
   ],
   "source": [
    "df_1['pub_rec_bankruptcies'].value_counts()"
   ]
  },
  {
   "cell_type": "code",
   "execution_count": 62,
   "id": "7ae8ca0e",
   "metadata": {},
   "outputs": [
    {
     "data": {
      "text/plain": [
       "0.0    37505\n",
       "Name: tax_liens, dtype: int64"
      ]
     },
     "execution_count": 62,
     "metadata": {},
     "output_type": "execute_result"
    }
   ],
   "source": [
    "df_1['tax_liens'].value_counts()"
   ]
  },
  {
   "cell_type": "code",
   "execution_count": 63,
   "id": "5c0a243c",
   "metadata": {},
   "outputs": [
    {
     "data": {
      "text/plain": [
       "n    37544\n",
       "Name: pymnt_plan, dtype: int64"
      ]
     },
     "execution_count": 63,
     "metadata": {},
     "output_type": "execute_result"
    }
   ],
   "source": [
    "df_1['pymnt_plan'].value_counts()"
   ]
  },
  {
   "cell_type": "markdown",
   "id": "1719ec56",
   "metadata": {},
   "source": [
    "As per the analysis of above columns they have only one value which does not help in analysis so, dropping the columns would be better"
   ]
  },
  {
   "cell_type": "code",
   "execution_count": 64,
   "id": "c57a7f5f",
   "metadata": {},
   "outputs": [],
   "source": [
    "df_1.drop(['tax_liens','chargeoff_within_12_mths','delinq_amnt','acc_now_delinq','policy_code','collections_12_mths_ex_med','initial_list_status','pymnt_plan'],inplace=True,axis=1)"
   ]
  },
  {
   "cell_type": "code",
   "execution_count": 65,
   "id": "32ed8d6e",
   "metadata": {},
   "outputs": [
    {
     "name": "stdout",
     "output_type": "stream",
     "text": [
      "<class 'pandas.core.frame.DataFrame'>\n",
      "Int64Index: 37544 entries, 0 to 39716\n",
      "Data columns (total 25 columns):\n",
      " #   Column                Non-Null Count  Dtype         \n",
      "---  ------                --------------  -----         \n",
      " 0   id                    37544 non-null  int64         \n",
      " 1   member_id             37544 non-null  int64         \n",
      " 2   loan_amnt             37544 non-null  int64         \n",
      " 3   funded_amnt           37544 non-null  int64         \n",
      " 4   funded_amnt_inv       37544 non-null  float64       \n",
      " 5   term                  37544 non-null  int64         \n",
      " 6   int_rate              37544 non-null  float64       \n",
      " 7   installment           37544 non-null  float64       \n",
      " 8   grade                 37544 non-null  object        \n",
      " 9   sub_grade             37544 non-null  object        \n",
      " 10  emp_title             36136 non-null  object        \n",
      " 11  emp_length            37544 non-null  object        \n",
      " 12  home_ownership        37544 non-null  object        \n",
      " 13  annual_inc            37544 non-null  float64       \n",
      " 14  verification_status   37544 non-null  object        \n",
      " 15  issue_d               37544 non-null  datetime64[ns]\n",
      " 16  loan_status           37544 non-null  object        \n",
      " 17  purpose               37544 non-null  object        \n",
      " 18  dti                   37544 non-null  float64       \n",
      " 19  pub_rec_bankruptcies  36847 non-null  float64       \n",
      " 20  emp_length_num        37544 non-null  int64         \n",
      " 21  year                  37544 non-null  object        \n",
      " 22  month                 37544 non-null  object        \n",
      " 23  loan_status_number    37544 non-null  int64         \n",
      " 24  annual_income_bins    37544 non-null  category      \n",
      "dtypes: category(1), datetime64[ns](1), float64(6), int64(7), object(10)\n",
      "memory usage: 7.2+ MB\n"
     ]
    }
   ],
   "source": [
    "df_1.info()"
   ]
  },
  {
   "cell_type": "code",
   "execution_count": 66,
   "id": "2f2cf9bb",
   "metadata": {},
   "outputs": [
    {
     "data": {
      "image/png": "[encoded data removed]",
      "text/plain": [
       "<Figure size 360x360 with 1 Axes>"
      ]
     },
     "metadata": {
      "needs_background": "light"
     },
     "output_type": "display_data"
    }
   ],
   "source": [
    "# As per distribution chart below the funded amount majorly distributed between 1000 to 15000\n",
    "sns.displot(df_1['funded_amnt'])\n",
    "plt.show()"
   ]
  },
  {
   "cell_type": "code",
   "execution_count": 67,
   "id": "9777bc48",
   "metadata": {},
   "outputs": [
    {
     "data": {
      "image/png": "[encoded data removed]",
      "text/plain": [
       "<Figure size 360x360 with 1 Axes>"
      ]
     },
     "metadata": {
      "needs_background": "light"
     },
     "output_type": "display_data"
    }
   ],
   "source": [
    "sns.displot(df_1['loan_amnt'])\n",
    "plt.show()"
   ]
  },
  {
   "cell_type": "markdown",
   "id": "30b98f1b",
   "metadata": {},
   "source": [
    "It looks that loan amount and funded amount is same which means the people requested amount of loan is funded"
   ]
  },
  {
   "cell_type": "code",
   "execution_count": 68,
   "id": "23df3880",
   "metadata": {},
   "outputs": [
    {
     "data": {
      "image/png": "[encoded data removed]",
      "text/plain": [
       "<Figure size 432x288 with 1 Axes>"
      ]
     },
     "metadata": {
      "needs_background": "light"
     },
     "output_type": "display_data"
    }
   ],
   "source": [
    "df_1['int_rate'].plot.hist(y='int_rate',bins=15,rwidth=0.8)\n",
    "plt.show()"
   ]
  },
  {
   "cell_type": "code",
   "execution_count": 69,
   "id": "dddcd54d",
   "metadata": {},
   "outputs": [
    {
     "data": {
      "text/plain": [
       "count    37544.000000\n",
       "mean        11.963319\n",
       "std          3.683012\n",
       "min          5.420000\n",
       "25%          8.940000\n",
       "50%         11.830000\n",
       "75%         14.420000\n",
       "max         24.400000\n",
       "Name: int_rate, dtype: float64"
      ]
     },
     "execution_count": 69,
     "metadata": {},
     "output_type": "execute_result"
    }
   ],
   "source": [
    "df_1['int_rate'].describe()"
   ]
  },
  {
   "cell_type": "markdown",
   "id": "99e065b6",
   "metadata": {},
   "source": [
    "Mean and Median are almost same in terms interest rate allocation to people where 75% of the population are given between 5.42% to 14.42% "
   ]
  },
  {
   "cell_type": "code",
   "execution_count": 70,
   "id": "31bf1a85",
   "metadata": {},
   "outputs": [
    {
     "data": {
      "image/png": "[encoded data removed]",
      "text/plain": [
       "<Figure size 360x360 with 1 Axes>"
      ]
     },
     "metadata": {
      "needs_background": "light"
     },
     "output_type": "display_data"
    }
   ],
   "source": [
    "sns.displot(df_1['funded_amnt_inv'])\n",
    "plt.show()"
   ]
  },
  {
   "cell_type": "markdown",
   "id": "fc1c9fe4",
   "metadata": {},
   "source": [
    "We are doing segmeneted analysis to understand the people who are mostly defaulting by considering various categorical variables like verification status, purpose, annual_income_bins, year, grade,home ownership"
   ]
  },
  {
   "cell_type": "code",
   "execution_count": 71,
   "id": "866ca1b0",
   "metadata": {},
   "outputs": [],
   "source": [
    "Defaulted_Population = df_1[df_1['loan_status']=='Charged Off']"
   ]
  },
  {
   "cell_type": "code",
   "execution_count": 72,
   "id": "154914ac",
   "metadata": {
    "scrolled": false
   },
   "outputs": [
    {
     "data": {
      "image/png": "[encoded data removed]",
      "text/plain": [
       "<Figure size 432x288 with 1 Axes>"
      ]
     },
     "metadata": {
      "needs_background": "light"
     },
     "output_type": "display_data"
    }
   ],
   "source": [
    "sns.countplot(x='verification_status',hue='loan_status_number',data=Defaulted_Population)\n",
    "plt.show()"
   ]
  },
  {
   "cell_type": "code",
   "execution_count": 104,
   "id": "b0da00e9",
   "metadata": {},
   "outputs": [
    {
     "data": {
      "text/plain": [
       "Not Verified       0.38\n",
       "Verified           0.36\n",
       "Source Verified    0.26\n",
       "Name: verification_status, dtype: float64"
      ]
     },
     "execution_count": 104,
     "metadata": {},
     "output_type": "execute_result"
    }
   ],
   "source": [
    "round(Defaulted_Population['verification_status'].value_counts(normalize=True),2)"
   ]
  },
  {
   "cell_type": "markdown",
   "id": "50c2ea7b",
   "metadata": {},
   "source": [
    "The population who are not verified are defaulted more which is obvious that if the source is not verified they may tend to default "
   ]
  },
  {
   "cell_type": "code",
   "execution_count": 106,
   "id": "5c8dcfdf",
   "metadata": {
    "scrolled": true
   },
   "outputs": [],
   "source": [
    "# to check segmented analysis over multiple plots we are defining a function\n",
    "def bar_plot(x,y,pallate = \"Set2\"):\n",
    "    sns.countplot(x=x,hue=y,data=Defaulted_Population,palette=\"Set2\")\n",
    "    plt.xticks(rotation=45)\n",
    "    plt.show()"
   ]
  },
  {
   "cell_type": "code",
   "execution_count": 121,
   "id": "e6bae7a2",
   "metadata": {},
   "outputs": [
    {
     "data": {
      "image/png": "[encoded data removed]",
      "text/plain": [
       "<Figure size 432x288 with 1 Axes>"
      ]
     },
     "metadata": {
      "needs_background": "light"
     },
     "output_type": "display_data"
    },
    {
     "data": {
      "text/plain": [
       "very low     0.25\n",
       "low          0.21\n",
       "medium       0.21\n",
       "high         0.18\n",
       "very high    0.15\n",
       "Name: annual_income_bins, dtype: float64"
      ]
     },
     "execution_count": 121,
     "metadata": {},
     "output_type": "execute_result"
    }
   ],
   "source": [
    "bar_plot('annual_income_bins','loan_status_number')\n",
    "round(Defaulted_Population['annual_income_bins'].value_counts(normalize=True),2)"
   ]
  },
  {
   "cell_type": "markdown",
   "id": "d9576716",
   "metadata": {},
   "source": [
    " The customers with very low income are tend to default more but it is quite shocking that people with high and very high income also tend to default as well."
   ]
  },
  {
   "cell_type": "code",
   "execution_count": 123,
   "id": "8c42ab51",
   "metadata": {},
   "outputs": [
    {
     "data": {
      "image/png": "[encoded data removed]",
      "text/plain": [
       "<Figure size 1440x720 with 1 Axes>"
      ]
     },
     "metadata": {
      "needs_background": "light"
     },
     "output_type": "display_data"
    }
   ],
   "source": [
    "plt.figure(figsize=(20,10))\n",
    "plt.xticks(rotation = 45)\n",
    "sns.countplot(x='purpose',hue='loan_status_number',data=df_1)\n",
    "plt.show()"
   ]
  },
  {
   "cell_type": "code",
   "execution_count": 125,
   "id": "6893d6a0",
   "metadata": {},
   "outputs": [
    {
     "data": {
      "text/plain": [
       "debt_consolidation    0.496203\n",
       "other                 0.110391\n",
       "credit_card           0.094462\n",
       "small_business        0.085571\n",
       "home_improvement      0.061122\n",
       "major_purchase        0.039081\n",
       "car                   0.028709\n",
       "medical               0.018707\n",
       "wedding               0.017040\n",
       "moving                0.015558\n",
       "house                 0.010928\n",
       "educational           0.009631\n",
       "vacation              0.009261\n",
       "renewable_energy      0.003334\n",
       "Name: purpose, dtype: float64"
      ]
     },
     "execution_count": 125,
     "metadata": {},
     "output_type": "execute_result"
    }
   ],
   "source": [
    "Defaulted_Population['purpose'].value_counts(normalize=True)"
   ]
  },
  {
   "cell_type": "markdown",
   "id": "23e8e3e3",
   "metadata": {},
   "source": [
    "Debt Consolidation is the primary purpose for defaulting\n"
   ]
  },
  {
   "cell_type": "code",
   "execution_count": 76,
   "id": "c99b7321",
   "metadata": {
    "scrolled": true
   },
   "outputs": [
    {
     "data": {
      "image/png": "[encoded data removed]",
      "text/plain": [
       "<Figure size 432x288 with 1 Axes>"
      ]
     },
     "metadata": {
      "needs_background": "light"
     },
     "output_type": "display_data"
    }
   ],
   "source": [
    "bar_plot('year','loan_status_number')"
   ]
  },
  {
   "cell_type": "markdown",
   "id": "25f111e5",
   "metadata": {},
   "source": [
    "as per analysis there are more defaulted values for 2007 and 2008\n",
    "\n",
    "2007 has the hightest defaulted values where as lowest"
   ]
  },
  {
   "cell_type": "code",
   "execution_count": 142,
   "id": "ffec5f17",
   "metadata": {
    "scrolled": false
   },
   "outputs": [
    {
     "data": {
      "image/png": "[encoded data removed]",
      "text/plain": [
       "<Figure size 432x288 with 1 Axes>"
      ]
     },
     "metadata": {
      "needs_background": "light"
     },
     "output_type": "display_data"
    }
   ],
   "source": [
    "sns.barplot(x='grade',y=\"loan_amnt\",data=Defaulted_Population, palette=\"Set3\")\n",
    "plt.show()"
   ]
  },
  {
   "cell_type": "code",
   "execution_count": 144,
   "id": "130c1bb7",
   "metadata": {},
   "outputs": [
    {
     "data": {
      "image/png": "[encoded data removed]",
      "text/plain": [
       "<Figure size 432x288 with 1 Axes>"
      ]
     },
     "metadata": {
      "needs_background": "light"
     },
     "output_type": "display_data"
    }
   ],
   "source": [
    "bar_plot('grade','loan_status_number',pallate=\"Set3\")"
   ]
  },
  {
   "cell_type": "markdown",
   "id": "322338b7",
   "metadata": {},
   "source": [
    "Borrowers who are of grade B are defaulting more than C,D,E,F and G grades"
   ]
  },
  {
   "cell_type": "code",
   "execution_count": 78,
   "id": "b4648a13",
   "metadata": {},
   "outputs": [
    {
     "data": {
      "image/png": "[encoded data removed]",
      "text/plain": [
       "<Figure size 1152x432 with 1 Axes>"
      ]
     },
     "metadata": {
      "needs_background": "light"
     },
     "output_type": "display_data"
    }
   ],
   "source": [
    "plt.figure(figsize=(16,6))\n",
    "bar_plot('emp_length','loan_status_number')"
   ]
  },
  {
   "cell_type": "markdown",
   "id": "68304935",
   "metadata": {},
   "source": [
    "The higher employment length does not mean they are safer people for providing loans as 10+ years people have defaulted more when compared tp other employment length"
   ]
  },
  {
   "cell_type": "code",
   "execution_count": 79,
   "id": "a01aea6c",
   "metadata": {
    "scrolled": true
   },
   "outputs": [
    {
     "data": {
      "image/png": "[encoded data removed]",
      "text/plain": [
       "<Figure size 432x288 with 1 Axes>"
      ]
     },
     "metadata": {
      "needs_background": "light"
     },
     "output_type": "display_data"
    }
   ],
   "source": [
    "bar_plot('home_ownership','loan_status_number')"
   ]
  },
  {
   "cell_type": "markdown",
   "id": "46dbb738",
   "metadata": {},
   "source": [
    "The people who are in Rented property tend to default more as they may need to pay both rent and EMI which might be more burdensome for many people who are having low income"
   ]
  },
  {
   "cell_type": "code",
   "execution_count": 80,
   "id": "b0d89873",
   "metadata": {},
   "outputs": [
    {
     "data": {
      "text/html": [
       "<div>\n",
       "<style scoped>\n",
       "    .dataframe tbody tr th:only-of-type {\n",
       "        vertical-align: middle;\n",
       "    }\n",
       "\n",
       "    .dataframe tbody tr th {\n",
       "        vertical-align: top;\n",
       "    }\n",
       "\n",
       "    .dataframe thead th {\n",
       "        text-align: right;\n",
       "    }\n",
       "</style>\n",
       "<table border=\"1\" class=\"dataframe\">\n",
       "  <thead>\n",
       "    <tr style=\"text-align: right;\">\n",
       "      <th></th>\n",
       "      <th></th>\n",
       "      <th>sum</th>\n",
       "      <th>mean</th>\n",
       "      <th>median</th>\n",
       "    </tr>\n",
       "    <tr>\n",
       "      <th>home_ownership</th>\n",
       "      <th>annual_income_bins</th>\n",
       "      <th></th>\n",
       "      <th></th>\n",
       "      <th></th>\n",
       "    </tr>\n",
       "  </thead>\n",
       "  <tbody>\n",
       "    <tr>\n",
       "      <th rowspan=\"5\" valign=\"top\">MORTGAGE</th>\n",
       "      <th>very low</th>\n",
       "      <td>1994250</td>\n",
       "      <td>7851.38</td>\n",
       "      <td>7162.5</td>\n",
       "    </tr>\n",
       "    <tr>\n",
       "      <th>low</th>\n",
       "      <td>4476000</td>\n",
       "      <td>11360.41</td>\n",
       "      <td>10000.0</td>\n",
       "    </tr>\n",
       "    <tr>\n",
       "      <th>medium</th>\n",
       "      <td>7249250</td>\n",
       "      <td>13350.37</td>\n",
       "      <td>12000.0</td>\n",
       "    </tr>\n",
       "    <tr>\n",
       "      <th>high</th>\n",
       "      <td>8416625</td>\n",
       "      <td>16001.19</td>\n",
       "      <td>15000.0</td>\n",
       "    </tr>\n",
       "    <tr>\n",
       "      <th>very high</th>\n",
       "      <td>9789725</td>\n",
       "      <td>18541.15</td>\n",
       "      <td>18000.0</td>\n",
       "    </tr>\n",
       "    <tr>\n",
       "      <th rowspan=\"5\" valign=\"top\">OTHER</th>\n",
       "      <th>very low</th>\n",
       "      <td>48200</td>\n",
       "      <td>9640.00</td>\n",
       "      <td>10000.0</td>\n",
       "    </tr>\n",
       "    <tr>\n",
       "      <th>low</th>\n",
       "      <td>17400</td>\n",
       "      <td>8700.00</td>\n",
       "      <td>8700.0</td>\n",
       "    </tr>\n",
       "    <tr>\n",
       "      <th>medium</th>\n",
       "      <td>61000</td>\n",
       "      <td>15250.00</td>\n",
       "      <td>14500.0</td>\n",
       "    </tr>\n",
       "    <tr>\n",
       "      <th>high</th>\n",
       "      <td>88850</td>\n",
       "      <td>17770.00</td>\n",
       "      <td>15850.0</td>\n",
       "    </tr>\n",
       "    <tr>\n",
       "      <th>very high</th>\n",
       "      <td>32000</td>\n",
       "      <td>16000.00</td>\n",
       "      <td>16000.0</td>\n",
       "    </tr>\n",
       "    <tr>\n",
       "      <th rowspan=\"5\" valign=\"top\">OWN</th>\n",
       "      <th>very low</th>\n",
       "      <td>1000625</td>\n",
       "      <td>7096.63</td>\n",
       "      <td>6000.0</td>\n",
       "    </tr>\n",
       "    <tr>\n",
       "      <th>low</th>\n",
       "      <td>942975</td>\n",
       "      <td>10477.50</td>\n",
       "      <td>10000.0</td>\n",
       "    </tr>\n",
       "    <tr>\n",
       "      <th>medium</th>\n",
       "      <td>893700</td>\n",
       "      <td>12952.17</td>\n",
       "      <td>12000.0</td>\n",
       "    </tr>\n",
       "    <tr>\n",
       "      <th>high</th>\n",
       "      <td>922125</td>\n",
       "      <td>15898.71</td>\n",
       "      <td>15000.0</td>\n",
       "    </tr>\n",
       "    <tr>\n",
       "      <th>very high</th>\n",
       "      <td>801175</td>\n",
       "      <td>19075.60</td>\n",
       "      <td>19000.0</td>\n",
       "    </tr>\n",
       "    <tr>\n",
       "      <th rowspan=\"5\" valign=\"top\">RENT</th>\n",
       "      <th>very low</th>\n",
       "      <td>6833475</td>\n",
       "      <td>7246.53</td>\n",
       "      <td>6250.0</td>\n",
       "    </tr>\n",
       "    <tr>\n",
       "      <th>low</th>\n",
       "      <td>6554650</td>\n",
       "      <td>9725.00</td>\n",
       "      <td>8400.0</td>\n",
       "    </tr>\n",
       "    <tr>\n",
       "      <th>medium</th>\n",
       "      <td>6253175</td>\n",
       "      <td>12333.68</td>\n",
       "      <td>11200.0</td>\n",
       "    </tr>\n",
       "    <tr>\n",
       "      <th>high</th>\n",
       "      <td>5529850</td>\n",
       "      <td>14825.34</td>\n",
       "      <td>13000.0</td>\n",
       "    </tr>\n",
       "    <tr>\n",
       "      <th>very high</th>\n",
       "      <td>4200725</td>\n",
       "      <td>17576.26</td>\n",
       "      <td>18000.0</td>\n",
       "    </tr>\n",
       "  </tbody>\n",
       "</table>\n",
       "</div>"
      ],
      "text/plain": [
       "                                       sum      mean   median\n",
       "home_ownership annual_income_bins                            \n",
       "MORTGAGE       very low            1994250   7851.38   7162.5\n",
       "               low                 4476000  11360.41  10000.0\n",
       "               medium              7249250  13350.37  12000.0\n",
       "               high                8416625  16001.19  15000.0\n",
       "               very high           9789725  18541.15  18000.0\n",
       "OTHER          very low              48200   9640.00  10000.0\n",
       "               low                   17400   8700.00   8700.0\n",
       "               medium                61000  15250.00  14500.0\n",
       "               high                  88850  17770.00  15850.0\n",
       "               very high             32000  16000.00  16000.0\n",
       "OWN            very low            1000625   7096.63   6000.0\n",
       "               low                  942975  10477.50  10000.0\n",
       "               medium               893700  12952.17  12000.0\n",
       "               high                 922125  15898.71  15000.0\n",
       "               very high            801175  19075.60  19000.0\n",
       "RENT           very low            6833475   7246.53   6250.0\n",
       "               low                 6554650   9725.00   8400.0\n",
       "               medium              6253175  12333.68  11200.0\n",
       "               high                5529850  14825.34  13000.0\n",
       "               very high           4200725  17576.26  18000.0"
      ]
     },
     "execution_count": 80,
     "metadata": {},
     "output_type": "execute_result"
    }
   ],
   "source": [
    "round(Defaulted_Population.groupby(['home_ownership','annual_income_bins']).agg([np.sum, np.mean, np.median])['loan_amnt'],2)"
   ]
  },
  {
   "cell_type": "markdown",
   "id": "95acc805",
   "metadata": {},
   "source": [
    "People who are having house ownership as mortgage tend to take high loan amount and default\n",
    "\n",
    "Based on the above 2 charts people who in term of Count Rented house people have defaulted a lot but in terms of monitary value people with Mortgage tend to take higer loan amount and default"
   ]
  },
  {
   "cell_type": "code",
   "execution_count": 81,
   "id": "f720b2f7",
   "metadata": {},
   "outputs": [
    {
     "data": {
      "text/html": [
       "<div>\n",
       "<style scoped>\n",
       "    .dataframe tbody tr th:only-of-type {\n",
       "        vertical-align: middle;\n",
       "    }\n",
       "\n",
       "    .dataframe tbody tr th {\n",
       "        vertical-align: top;\n",
       "    }\n",
       "\n",
       "    .dataframe thead th {\n",
       "        text-align: right;\n",
       "    }\n",
       "</style>\n",
       "<table border=\"1\" class=\"dataframe\">\n",
       "  <thead>\n",
       "    <tr style=\"text-align: right;\">\n",
       "      <th></th>\n",
       "      <th>id</th>\n",
       "      <th>member_id</th>\n",
       "      <th>loan_amnt</th>\n",
       "      <th>funded_amnt</th>\n",
       "      <th>funded_amnt_inv</th>\n",
       "      <th>term</th>\n",
       "      <th>int_rate</th>\n",
       "      <th>installment</th>\n",
       "      <th>annual_inc</th>\n",
       "      <th>dti</th>\n",
       "      <th>pub_rec_bankruptcies</th>\n",
       "      <th>emp_length_num</th>\n",
       "      <th>loan_status_number</th>\n",
       "    </tr>\n",
       "  </thead>\n",
       "  <tbody>\n",
       "    <tr>\n",
       "      <th>id</th>\n",
       "      <td>1.000000</td>\n",
       "      <td>0.994180</td>\n",
       "      <td>0.161520</td>\n",
       "      <td>0.174968</td>\n",
       "      <td>0.322121</td>\n",
       "      <td>0.300957</td>\n",
       "      <td>0.206881</td>\n",
       "      <td>0.088247</td>\n",
       "      <td>-0.008005</td>\n",
       "      <td>0.108630</td>\n",
       "      <td>-0.026553</td>\n",
       "      <td>0.108079</td>\n",
       "      <td>NaN</td>\n",
       "    </tr>\n",
       "    <tr>\n",
       "      <th>member_id</th>\n",
       "      <td>0.994180</td>\n",
       "      <td>1.000000</td>\n",
       "      <td>0.156682</td>\n",
       "      <td>0.169727</td>\n",
       "      <td>0.330744</td>\n",
       "      <td>0.323696</td>\n",
       "      <td>0.208249</td>\n",
       "      <td>0.077095</td>\n",
       "      <td>-0.009108</td>\n",
       "      <td>0.108639</td>\n",
       "      <td>-0.023475</td>\n",
       "      <td>0.111364</td>\n",
       "      <td>NaN</td>\n",
       "    </tr>\n",
       "    <tr>\n",
       "      <th>loan_amnt</th>\n",
       "      <td>0.161520</td>\n",
       "      <td>0.156682</td>\n",
       "      <td>1.000000</td>\n",
       "      <td>0.978541</td>\n",
       "      <td>0.904253</td>\n",
       "      <td>0.386206</td>\n",
       "      <td>0.344500</td>\n",
       "      <td>0.924393</td>\n",
       "      <td>0.347746</td>\n",
       "      <td>0.065087</td>\n",
       "      <td>-0.017643</td>\n",
       "      <td>0.191467</td>\n",
       "      <td>NaN</td>\n",
       "    </tr>\n",
       "    <tr>\n",
       "      <th>funded_amnt</th>\n",
       "      <td>0.174968</td>\n",
       "      <td>0.169727</td>\n",
       "      <td>0.978541</td>\n",
       "      <td>1.000000</td>\n",
       "      <td>0.924604</td>\n",
       "      <td>0.369178</td>\n",
       "      <td>0.347489</td>\n",
       "      <td>0.953196</td>\n",
       "      <td>0.342506</td>\n",
       "      <td>0.061853</td>\n",
       "      <td>-0.023143</td>\n",
       "      <td>0.195099</td>\n",
       "      <td>NaN</td>\n",
       "    </tr>\n",
       "    <tr>\n",
       "      <th>funded_amnt_inv</th>\n",
       "      <td>0.322121</td>\n",
       "      <td>0.330744</td>\n",
       "      <td>0.904253</td>\n",
       "      <td>0.924604</td>\n",
       "      <td>1.000000</td>\n",
       "      <td>0.421225</td>\n",
       "      <td>0.365753</td>\n",
       "      <td>0.854163</td>\n",
       "      <td>0.309644</td>\n",
       "      <td>0.074643</td>\n",
       "      <td>-0.027425</td>\n",
       "      <td>0.200446</td>\n",
       "      <td>NaN</td>\n",
       "    </tr>\n",
       "    <tr>\n",
       "      <th>term</th>\n",
       "      <td>0.300957</td>\n",
       "      <td>0.323696</td>\n",
       "      <td>0.386206</td>\n",
       "      <td>0.369178</td>\n",
       "      <td>0.421225</td>\n",
       "      <td>1.000000</td>\n",
       "      <td>0.456311</td>\n",
       "      <td>0.127963</td>\n",
       "      <td>0.076876</td>\n",
       "      <td>0.070010</td>\n",
       "      <td>0.025809</td>\n",
       "      <td>0.140646</td>\n",
       "      <td>NaN</td>\n",
       "    </tr>\n",
       "    <tr>\n",
       "      <th>int_rate</th>\n",
       "      <td>0.206881</td>\n",
       "      <td>0.208249</td>\n",
       "      <td>0.344500</td>\n",
       "      <td>0.347489</td>\n",
       "      <td>0.365753</td>\n",
       "      <td>0.456311</td>\n",
       "      <td>1.000000</td>\n",
       "      <td>0.320223</td>\n",
       "      <td>0.126876</td>\n",
       "      <td>0.044896</td>\n",
       "      <td>0.077211</td>\n",
       "      <td>0.041043</td>\n",
       "      <td>NaN</td>\n",
       "    </tr>\n",
       "    <tr>\n",
       "      <th>installment</th>\n",
       "      <td>0.088247</td>\n",
       "      <td>0.077095</td>\n",
       "      <td>0.924393</td>\n",
       "      <td>0.953196</td>\n",
       "      <td>0.854163</td>\n",
       "      <td>0.127963</td>\n",
       "      <td>0.320223</td>\n",
       "      <td>1.000000</td>\n",
       "      <td>0.353625</td>\n",
       "      <td>0.041728</td>\n",
       "      <td>-0.016543</td>\n",
       "      <td>0.162022</td>\n",
       "      <td>NaN</td>\n",
       "    </tr>\n",
       "    <tr>\n",
       "      <th>annual_inc</th>\n",
       "      <td>-0.008005</td>\n",
       "      <td>-0.009108</td>\n",
       "      <td>0.347746</td>\n",
       "      <td>0.342506</td>\n",
       "      <td>0.309644</td>\n",
       "      <td>0.076876</td>\n",
       "      <td>0.126876</td>\n",
       "      <td>0.353625</td>\n",
       "      <td>1.000000</td>\n",
       "      <td>-0.089257</td>\n",
       "      <td>0.004175</td>\n",
       "      <td>0.134728</td>\n",
       "      <td>NaN</td>\n",
       "    </tr>\n",
       "    <tr>\n",
       "      <th>dti</th>\n",
       "      <td>0.108630</td>\n",
       "      <td>0.108639</td>\n",
       "      <td>0.065087</td>\n",
       "      <td>0.061853</td>\n",
       "      <td>0.074643</td>\n",
       "      <td>0.070010</td>\n",
       "      <td>0.044896</td>\n",
       "      <td>0.041728</td>\n",
       "      <td>-0.089257</td>\n",
       "      <td>1.000000</td>\n",
       "      <td>0.018230</td>\n",
       "      <td>0.056225</td>\n",
       "      <td>NaN</td>\n",
       "    </tr>\n",
       "    <tr>\n",
       "      <th>pub_rec_bankruptcies</th>\n",
       "      <td>-0.026553</td>\n",
       "      <td>-0.023475</td>\n",
       "      <td>-0.017643</td>\n",
       "      <td>-0.023143</td>\n",
       "      <td>-0.027425</td>\n",
       "      <td>0.025809</td>\n",
       "      <td>0.077211</td>\n",
       "      <td>-0.016543</td>\n",
       "      <td>0.004175</td>\n",
       "      <td>0.018230</td>\n",
       "      <td>1.000000</td>\n",
       "      <td>0.055546</td>\n",
       "      <td>NaN</td>\n",
       "    </tr>\n",
       "    <tr>\n",
       "      <th>emp_length_num</th>\n",
       "      <td>0.108079</td>\n",
       "      <td>0.111364</td>\n",
       "      <td>0.191467</td>\n",
       "      <td>0.195099</td>\n",
       "      <td>0.200446</td>\n",
       "      <td>0.140646</td>\n",
       "      <td>0.041043</td>\n",
       "      <td>0.162022</td>\n",
       "      <td>0.134728</td>\n",
       "      <td>0.056225</td>\n",
       "      <td>0.055546</td>\n",
       "      <td>1.000000</td>\n",
       "      <td>NaN</td>\n",
       "    </tr>\n",
       "    <tr>\n",
       "      <th>loan_status_number</th>\n",
       "      <td>NaN</td>\n",
       "      <td>NaN</td>\n",
       "      <td>NaN</td>\n",
       "      <td>NaN</td>\n",
       "      <td>NaN</td>\n",
       "      <td>NaN</td>\n",
       "      <td>NaN</td>\n",
       "      <td>NaN</td>\n",
       "      <td>NaN</td>\n",
       "      <td>NaN</td>\n",
       "      <td>NaN</td>\n",
       "      <td>NaN</td>\n",
       "      <td>NaN</td>\n",
       "    </tr>\n",
       "  </tbody>\n",
       "</table>\n",
       "</div>"
      ],
      "text/plain": [
       "                            id  member_id  loan_amnt  funded_amnt  \\\n",
       "id                    1.000000   0.994180   0.161520     0.174968   \n",
       "member_id             0.994180   1.000000   0.156682     0.169727   \n",
       "loan_amnt             0.161520   0.156682   1.000000     0.978541   \n",
       "funded_amnt           0.174968   0.169727   0.978541     1.000000   \n",
       "funded_amnt_inv       0.322121   0.330744   0.904253     0.924604   \n",
       "term                  0.300957   0.323696   0.386206     0.369178   \n",
       "int_rate              0.206881   0.208249   0.344500     0.347489   \n",
       "installment           0.088247   0.077095   0.924393     0.953196   \n",
       "annual_inc           -0.008005  -0.009108   0.347746     0.342506   \n",
       "dti                   0.108630   0.108639   0.065087     0.061853   \n",
       "pub_rec_bankruptcies -0.026553  -0.023475  -0.017643    -0.023143   \n",
       "emp_length_num        0.108079   0.111364   0.191467     0.195099   \n",
       "loan_status_number         NaN        NaN        NaN          NaN   \n",
       "\n",
       "                      funded_amnt_inv      term  int_rate  installment  \\\n",
       "id                           0.322121  0.300957  0.206881     0.088247   \n",
       "member_id                    0.330744  0.323696  0.208249     0.077095   \n",
       "loan_amnt                    0.904253  0.386206  0.344500     0.924393   \n",
       "funded_amnt                  0.924604  0.369178  0.347489     0.953196   \n",
       "funded_amnt_inv              1.000000  0.421225  0.365753     0.854163   \n",
       "term                         0.421225  1.000000  0.456311     0.127963   \n",
       "int_rate                     0.365753  0.456311  1.000000     0.320223   \n",
       "installment                  0.854163  0.127963  0.320223     1.000000   \n",
       "annual_inc                   0.309644  0.076876  0.126876     0.353625   \n",
       "dti                          0.074643  0.070010  0.044896     0.041728   \n",
       "pub_rec_bankruptcies        -0.027425  0.025809  0.077211    -0.016543   \n",
       "emp_length_num               0.200446  0.140646  0.041043     0.162022   \n",
       "loan_status_number                NaN       NaN       NaN          NaN   \n",
       "\n",
       "                      annual_inc       dti  pub_rec_bankruptcies  \\\n",
       "id                     -0.008005  0.108630             -0.026553   \n",
       "member_id              -0.009108  0.108639             -0.023475   \n",
       "loan_amnt               0.347746  0.065087             -0.017643   \n",
       "funded_amnt             0.342506  0.061853             -0.023143   \n",
       "funded_amnt_inv         0.309644  0.074643             -0.027425   \n",
       "term                    0.076876  0.070010              0.025809   \n",
       "int_rate                0.126876  0.044896              0.077211   \n",
       "installment             0.353625  0.041728             -0.016543   \n",
       "annual_inc              1.000000 -0.089257              0.004175   \n",
       "dti                    -0.089257  1.000000              0.018230   \n",
       "pub_rec_bankruptcies    0.004175  0.018230              1.000000   \n",
       "emp_length_num          0.134728  0.056225              0.055546   \n",
       "loan_status_number           NaN       NaN                   NaN   \n",
       "\n",
       "                      emp_length_num  loan_status_number  \n",
       "id                          0.108079                 NaN  \n",
       "member_id                   0.111364                 NaN  \n",
       "loan_amnt                   0.191467                 NaN  \n",
       "funded_amnt                 0.195099                 NaN  \n",
       "funded_amnt_inv             0.200446                 NaN  \n",
       "term                        0.140646                 NaN  \n",
       "int_rate                    0.041043                 NaN  \n",
       "installment                 0.162022                 NaN  \n",
       "annual_inc                  0.134728                 NaN  \n",
       "dti                         0.056225                 NaN  \n",
       "pub_rec_bankruptcies        0.055546                 NaN  \n",
       "emp_length_num              1.000000                 NaN  \n",
       "loan_status_number               NaN                 NaN  "
      ]
     },
     "execution_count": 81,
     "metadata": {},
     "output_type": "execute_result"
    }
   ],
   "source": [
    "Defaulted_Population.corr(method='pearson',min_periods=1)"
   ]
  },
  {
   "cell_type": "code",
   "execution_count": 82,
   "id": "906bc0ff",
   "metadata": {},
   "outputs": [
    {
     "data": {
      "text/plain": [
       "Index(['id', 'member_id', 'loan_amnt', 'funded_amnt', 'funded_amnt_inv',\n",
       "       'term', 'int_rate', 'installment', 'grade', 'sub_grade', 'emp_title',\n",
       "       'emp_length', 'home_ownership', 'annual_inc', 'verification_status',\n",
       "       'issue_d', 'loan_status', 'purpose', 'dti', 'pub_rec_bankruptcies',\n",
       "       'emp_length_num', 'year', 'month', 'loan_status_number',\n",
       "       'annual_income_bins'],\n",
       "      dtype='object')"
      ]
     },
     "execution_count": 82,
     "metadata": {},
     "output_type": "execute_result"
    }
   ],
   "source": [
    "df_1.columns"
   ]
  },
  {
   "cell_type": "code",
   "execution_count": 83,
   "id": "98052432",
   "metadata": {},
   "outputs": [
    {
     "data": {
      "text/html": [
       "<div>\n",
       "<style scoped>\n",
       "    .dataframe tbody tr th:only-of-type {\n",
       "        vertical-align: middle;\n",
       "    }\n",
       "\n",
       "    .dataframe tbody tr th {\n",
       "        vertical-align: top;\n",
       "    }\n",
       "\n",
       "    .dataframe thead th {\n",
       "        text-align: right;\n",
       "    }\n",
       "</style>\n",
       "<table border=\"1\" class=\"dataframe\">\n",
       "  <thead>\n",
       "    <tr style=\"text-align: right;\">\n",
       "      <th></th>\n",
       "      <th></th>\n",
       "      <th>sum</th>\n",
       "      <th>mean</th>\n",
       "      <th>median</th>\n",
       "    </tr>\n",
       "    <tr>\n",
       "      <th>grade</th>\n",
       "      <th>sub_grade</th>\n",
       "      <th></th>\n",
       "      <th></th>\n",
       "      <th></th>\n",
       "    </tr>\n",
       "  </thead>\n",
       "  <tbody>\n",
       "    <tr>\n",
       "      <th rowspan=\"5\" valign=\"top\">A</th>\n",
       "      <th>A1</th>\n",
       "      <td>185375</td>\n",
       "      <td>7723.96</td>\n",
       "      <td>7250.0</td>\n",
       "    </tr>\n",
       "    <tr>\n",
       "      <th>A2</th>\n",
       "      <td>465525</td>\n",
       "      <td>6845.96</td>\n",
       "      <td>6062.5</td>\n",
       "    </tr>\n",
       "    <tr>\n",
       "      <th>A3</th>\n",
       "      <td>711000</td>\n",
       "      <td>7900.00</td>\n",
       "      <td>7562.5</td>\n",
       "    </tr>\n",
       "    <tr>\n",
       "      <th>A4</th>\n",
       "      <td>1366850</td>\n",
       "      <td>8136.01</td>\n",
       "      <td>7000.0</td>\n",
       "    </tr>\n",
       "    <tr>\n",
       "      <th>A5</th>\n",
       "      <td>1727300</td>\n",
       "      <td>8304.33</td>\n",
       "      <td>7800.0</td>\n",
       "    </tr>\n",
       "    <tr>\n",
       "      <th rowspan=\"5\" valign=\"top\">B</th>\n",
       "      <th>B1</th>\n",
       "      <td>1421900</td>\n",
       "      <td>9233.12</td>\n",
       "      <td>8000.0</td>\n",
       "    </tr>\n",
       "    <tr>\n",
       "      <th>B2</th>\n",
       "      <td>2102325</td>\n",
       "      <td>9963.63</td>\n",
       "      <td>8875.0</td>\n",
       "    </tr>\n",
       "    <tr>\n",
       "      <th>B3</th>\n",
       "      <td>3760175</td>\n",
       "      <td>11534.28</td>\n",
       "      <td>10000.0</td>\n",
       "    </tr>\n",
       "    <tr>\n",
       "      <th>B4</th>\n",
       "      <td>3712075</td>\n",
       "      <td>11673.19</td>\n",
       "      <td>10000.0</td>\n",
       "    </tr>\n",
       "    <tr>\n",
       "      <th>B5</th>\n",
       "      <td>3991925</td>\n",
       "      <td>11537.36</td>\n",
       "      <td>10000.0</td>\n",
       "    </tr>\n",
       "    <tr>\n",
       "      <th rowspan=\"5\" valign=\"top\">C</th>\n",
       "      <th>C1</th>\n",
       "      <td>3688075</td>\n",
       "      <td>11525.23</td>\n",
       "      <td>9775.0</td>\n",
       "    </tr>\n",
       "    <tr>\n",
       "      <th>C2</th>\n",
       "      <td>3464725</td>\n",
       "      <td>11285.75</td>\n",
       "      <td>9800.0</td>\n",
       "    </tr>\n",
       "    <tr>\n",
       "      <th>C3</th>\n",
       "      <td>2825150</td>\n",
       "      <td>10907.92</td>\n",
       "      <td>10000.0</td>\n",
       "    </tr>\n",
       "    <tr>\n",
       "      <th>C4</th>\n",
       "      <td>2259875</td>\n",
       "      <td>11132.39</td>\n",
       "      <td>10000.0</td>\n",
       "    </tr>\n",
       "    <tr>\n",
       "      <th>C5</th>\n",
       "      <td>2166300</td>\n",
       "      <td>10885.93</td>\n",
       "      <td>9250.0</td>\n",
       "    </tr>\n",
       "    <tr>\n",
       "      <th rowspan=\"5\" valign=\"top\">D</th>\n",
       "      <th>D1</th>\n",
       "      <td>1569850</td>\n",
       "      <td>9630.98</td>\n",
       "      <td>8000.0</td>\n",
       "    </tr>\n",
       "    <tr>\n",
       "      <th>D2</th>\n",
       "      <td>2844550</td>\n",
       "      <td>10898.66</td>\n",
       "      <td>9000.0</td>\n",
       "    </tr>\n",
       "    <tr>\n",
       "      <th>D3</th>\n",
       "      <td>3324725</td>\n",
       "      <td>13352.31</td>\n",
       "      <td>12000.0</td>\n",
       "    </tr>\n",
       "    <tr>\n",
       "      <th>D4</th>\n",
       "      <td>2685325</td>\n",
       "      <td>12910.22</td>\n",
       "      <td>12000.0</td>\n",
       "    </tr>\n",
       "    <tr>\n",
       "      <th>D5</th>\n",
       "      <td>2875000</td>\n",
       "      <td>14093.14</td>\n",
       "      <td>13775.0</td>\n",
       "    </tr>\n",
       "    <tr>\n",
       "      <th rowspan=\"5\" valign=\"top\">E</th>\n",
       "      <th>E1</th>\n",
       "      <td>2884125</td>\n",
       "      <td>14943.65</td>\n",
       "      <td>13800.0</td>\n",
       "    </tr>\n",
       "    <tr>\n",
       "      <th>E2</th>\n",
       "      <td>2513025</td>\n",
       "      <td>15512.50</td>\n",
       "      <td>15000.0</td>\n",
       "    </tr>\n",
       "    <tr>\n",
       "      <th>E3</th>\n",
       "      <td>1743425</td>\n",
       "      <td>15160.22</td>\n",
       "      <td>14500.0</td>\n",
       "    </tr>\n",
       "    <tr>\n",
       "      <th>E4</th>\n",
       "      <td>2004625</td>\n",
       "      <td>16166.33</td>\n",
       "      <td>15000.0</td>\n",
       "    </tr>\n",
       "    <tr>\n",
       "      <th>E5</th>\n",
       "      <td>1939375</td>\n",
       "      <td>18295.99</td>\n",
       "      <td>17687.5</td>\n",
       "    </tr>\n",
       "    <tr>\n",
       "      <th rowspan=\"5\" valign=\"top\">F</th>\n",
       "      <th>F1</th>\n",
       "      <td>1703800</td>\n",
       "      <td>19143.82</td>\n",
       "      <td>19425.0</td>\n",
       "    </tr>\n",
       "    <tr>\n",
       "      <th>F2</th>\n",
       "      <td>1246450</td>\n",
       "      <td>18330.15</td>\n",
       "      <td>19500.0</td>\n",
       "    </tr>\n",
       "    <tr>\n",
       "      <th>F3</th>\n",
       "      <td>931125</td>\n",
       "      <td>18622.50</td>\n",
       "      <td>19212.5</td>\n",
       "    </tr>\n",
       "    <tr>\n",
       "      <th>F4</th>\n",
       "      <td>1060100</td>\n",
       "      <td>20001.89</td>\n",
       "      <td>20000.0</td>\n",
       "    </tr>\n",
       "    <tr>\n",
       "      <th>F5</th>\n",
       "      <td>1072875</td>\n",
       "      <td>20242.92</td>\n",
       "      <td>20000.0</td>\n",
       "    </tr>\n",
       "    <tr>\n",
       "      <th rowspan=\"5\" valign=\"top\">G</th>\n",
       "      <th>G1</th>\n",
       "      <td>561375</td>\n",
       "      <td>18712.50</td>\n",
       "      <td>16500.0</td>\n",
       "    </tr>\n",
       "    <tr>\n",
       "      <th>G2</th>\n",
       "      <td>538250</td>\n",
       "      <td>19223.21</td>\n",
       "      <td>19500.0</td>\n",
       "    </tr>\n",
       "    <tr>\n",
       "      <th>G3</th>\n",
       "      <td>363725</td>\n",
       "      <td>19143.42</td>\n",
       "      <td>20000.0</td>\n",
       "    </tr>\n",
       "    <tr>\n",
       "      <th>G4</th>\n",
       "      <td>219125</td>\n",
       "      <td>16855.77</td>\n",
       "      <td>14500.0</td>\n",
       "    </tr>\n",
       "    <tr>\n",
       "      <th>G5</th>\n",
       "      <td>176350</td>\n",
       "      <td>17635.00</td>\n",
       "      <td>18250.0</td>\n",
       "    </tr>\n",
       "  </tbody>\n",
       "</table>\n",
       "</div>"
      ],
      "text/plain": [
       "                     sum      mean   median\n",
       "grade sub_grade                            \n",
       "A     A1          185375   7723.96   7250.0\n",
       "      A2          465525   6845.96   6062.5\n",
       "      A3          711000   7900.00   7562.5\n",
       "      A4         1366850   8136.01   7000.0\n",
       "      A5         1727300   8304.33   7800.0\n",
       "B     B1         1421900   9233.12   8000.0\n",
       "      B2         2102325   9963.63   8875.0\n",
       "      B3         3760175  11534.28  10000.0\n",
       "      B4         3712075  11673.19  10000.0\n",
       "      B5         3991925  11537.36  10000.0\n",
       "C     C1         3688075  11525.23   9775.0\n",
       "      C2         3464725  11285.75   9800.0\n",
       "      C3         2825150  10907.92  10000.0\n",
       "      C4         2259875  11132.39  10000.0\n",
       "      C5         2166300  10885.93   9250.0\n",
       "D     D1         1569850   9630.98   8000.0\n",
       "      D2         2844550  10898.66   9000.0\n",
       "      D3         3324725  13352.31  12000.0\n",
       "      D4         2685325  12910.22  12000.0\n",
       "      D5         2875000  14093.14  13775.0\n",
       "E     E1         2884125  14943.65  13800.0\n",
       "      E2         2513025  15512.50  15000.0\n",
       "      E3         1743425  15160.22  14500.0\n",
       "      E4         2004625  16166.33  15000.0\n",
       "      E5         1939375  18295.99  17687.5\n",
       "F     F1         1703800  19143.82  19425.0\n",
       "      F2         1246450  18330.15  19500.0\n",
       "      F3          931125  18622.50  19212.5\n",
       "      F4         1060100  20001.89  20000.0\n",
       "      F5         1072875  20242.92  20000.0\n",
       "G     G1          561375  18712.50  16500.0\n",
       "      G2          538250  19223.21  19500.0\n",
       "      G3          363725  19143.42  20000.0\n",
       "      G4          219125  16855.77  14500.0\n",
       "      G5          176350  17635.00  18250.0"
      ]
     },
     "execution_count": 83,
     "metadata": {},
     "output_type": "execute_result"
    }
   ],
   "source": [
    "round(Defaulted_Population.groupby(['grade','sub_grade']).agg([np.sum, np.mean, np.median])['loan_amnt'],2)"
   ]
  },
  {
   "cell_type": "markdown",
   "id": "f2941dc4",
   "metadata": {},
   "source": [
    "As per analysis above we found that Grade B tend to default and especially Sub Grade B3,B4,B5 has high monetory value when compared to rest of the Grades"
   ]
  },
  {
   "cell_type": "code",
   "execution_count": 100,
   "id": "f2625a4c",
   "metadata": {},
   "outputs": [
    {
     "data": {
      "text/plain": [
       "year  month\n",
       "2007  08         7\n",
       "      09         3\n",
       "      10        10\n",
       "      11         7\n",
       "      12        18\n",
       "2008  01        31\n",
       "      02        25\n",
       "      03        40\n",
       "      04        27\n",
       "      05        10\n",
       "      06         7\n",
       "      07        17\n",
       "      08         6\n",
       "      09         5\n",
       "      10        15\n",
       "      11        31\n",
       "      12        33\n",
       "2009  01        28\n",
       "      02        34\n",
       "      03        31\n",
       "      04        40\n",
       "      05        42\n",
       "      06        43\n",
       "      07        47\n",
       "      08        40\n",
       "      09        57\n",
       "      10        87\n",
       "      11        83\n",
       "      12        62\n",
       "2010  01        75\n",
       "      02        56\n",
       "      03        66\n",
       "      04        74\n",
       "      05       117\n",
       "      06       155\n",
       "      07       136\n",
       "      08       140\n",
       "      09       170\n",
       "      10       152\n",
       "      11       135\n",
       "      12       135\n",
       "2011  01       176\n",
       "      02       151\n",
       "      03       202\n",
       "      04       215\n",
       "      05       275\n",
       "      06       255\n",
       "      07       262\n",
       "      08       262\n",
       "      09       292\n",
       "      10       290\n",
       "      11       314\n",
       "      12       408\n",
       "Name: loan_status_number, dtype: int64"
      ]
     },
     "execution_count": 100,
     "metadata": {},
     "output_type": "execute_result"
    }
   ],
   "source": [
    "Defaulted_Population.groupby(['year','month']).sum()['loan_status_number']"
   ]
  },
  {
   "cell_type": "markdown",
   "id": "68e3538f",
   "metadata": {},
   "source": [
    "People have defaulted more in Year 2011 out of which in Year end especially in Dec which also means that as the year increased the number of defaulters are also increasing"
   ]
  },
  {
   "cell_type": "code",
   "execution_count": 134,
   "id": "959aad2f",
   "metadata": {},
   "outputs": [
    {
     "data": {
      "text/html": [
       "<div>\n",
       "<style scoped>\n",
       "    .dataframe tbody tr th:only-of-type {\n",
       "        vertical-align: middle;\n",
       "    }\n",
       "\n",
       "    .dataframe tbody tr th {\n",
       "        vertical-align: top;\n",
       "    }\n",
       "\n",
       "    .dataframe thead th {\n",
       "        text-align: right;\n",
       "    }\n",
       "</style>\n",
       "<table border=\"1\" class=\"dataframe\">\n",
       "  <thead>\n",
       "    <tr style=\"text-align: right;\">\n",
       "      <th></th>\n",
       "      <th>annual_income_bins</th>\n",
       "      <th>very low</th>\n",
       "      <th>low</th>\n",
       "      <th>medium</th>\n",
       "      <th>high</th>\n",
       "      <th>very high</th>\n",
       "    </tr>\n",
       "    <tr>\n",
       "      <th>purpose</th>\n",
       "      <th>home_ownership</th>\n",
       "      <th></th>\n",
       "      <th></th>\n",
       "      <th></th>\n",
       "      <th></th>\n",
       "      <th></th>\n",
       "    </tr>\n",
       "  </thead>\n",
       "  <tbody>\n",
       "    <tr>\n",
       "      <th rowspan=\"4\" valign=\"top\">debt_consolidation</th>\n",
       "      <th>MORTGAGE</th>\n",
       "      <td>130</td>\n",
       "      <td>200</td>\n",
       "      <td>281</td>\n",
       "      <td>270</td>\n",
       "      <td>236</td>\n",
       "    </tr>\n",
       "    <tr>\n",
       "      <th>OTHER</th>\n",
       "      <td>3</td>\n",
       "      <td>0</td>\n",
       "      <td>1</td>\n",
       "      <td>2</td>\n",
       "      <td>1</td>\n",
       "    </tr>\n",
       "    <tr>\n",
       "      <th>OWN</th>\n",
       "      <td>68</td>\n",
       "      <td>36</td>\n",
       "      <td>33</td>\n",
       "      <td>26</td>\n",
       "      <td>14</td>\n",
       "    </tr>\n",
       "    <tr>\n",
       "      <th>RENT</th>\n",
       "      <td>436</td>\n",
       "      <td>351</td>\n",
       "      <td>281</td>\n",
       "      <td>190</td>\n",
       "      <td>120</td>\n",
       "    </tr>\n",
       "  </tbody>\n",
       "</table>\n",
       "</div>"
      ],
      "text/plain": [
       "annual_income_bins                 very low  low  medium  high  very high\n",
       "purpose            home_ownership                                        \n",
       "debt_consolidation MORTGAGE             130  200     281   270        236\n",
       "                   OTHER                  3    0       1     2          1\n",
       "                   OWN                   68   36      33    26         14\n",
       "                   RENT                 436  351     281   190        120"
      ]
     },
     "execution_count": 134,
     "metadata": {},
     "output_type": "execute_result"
    }
   ],
   "source": [
    "pd.pivot_table(Defaulted_Population[Defaulted_Population['purpose']=='debt_consolidation'], values='loan_status_number', index=['purpose','home_ownership'], columns='annual_income_bins',aggfunc=np.sum)"
   ]
  },
  {
   "cell_type": "markdown",
   "id": "29410aca",
   "metadata": {},
   "source": [
    "Borrowers with low to medium income in Debt consolidation are defaulting more when compared to high income so borrowers with less income should be given reduced loan amount"
   ]
  },
  {
   "cell_type": "code",
   "execution_count": 101,
   "id": "6f27374a",
   "metadata": {},
   "outputs": [
    {
     "data": {
      "image/png": "[encoded data removed]",
      "text/plain": [
       "<Figure size 432x288 with 1 Axes>"
      ]
     },
     "metadata": {
      "needs_background": "light"
     },
     "output_type": "display_data"
    }
   ],
   "source": [
    "#Let's observe how the loan distribution went over the year\n",
    "df_1.groupby('year').loan_amnt.count().plot(kind='line', fontsize=7)\n",
    "plt.show()\n"
   ]
  },
  {
   "cell_type": "markdown",
   "id": "0f6a1c38",
   "metadata": {},
   "source": [
    "We can observe that distribution of \"Loans\" kept on increasing in a particular flow."
   ]
  },
  {
   "cell_type": "code",
   "execution_count": 87,
   "id": "176641e1",
   "metadata": {},
   "outputs": [
    {
     "data": {
      "text/plain": [
       "Index(['id', 'member_id', 'loan_amnt', 'funded_amnt', 'funded_amnt_inv',\n",
       "       'term', 'int_rate', 'installment', 'grade', 'sub_grade', 'emp_title',\n",
       "       'emp_length', 'home_ownership', 'annual_inc', 'verification_status',\n",
       "       'issue_d', 'loan_status', 'purpose', 'dti', 'pub_rec_bankruptcies',\n",
       "       'emp_length_num', 'year', 'month', 'loan_status_number',\n",
       "       'annual_income_bins'],\n",
       "      dtype='object')"
      ]
     },
     "execution_count": 87,
     "metadata": {},
     "output_type": "execute_result"
    }
   ],
   "source": [
    "df_1.columns"
   ]
  },
  {
   "cell_type": "code",
   "execution_count": 89,
   "id": "cb3cabd4",
   "metadata": {
    "scrolled": true
   },
   "outputs": [
    {
     "data": {
      "text/plain": [
       "<AxesSubplot:xlabel='verification_status', ylabel='loan_amnt'>"
      ]
     },
     "execution_count": 89,
     "metadata": {},
     "output_type": "execute_result"
    },
    {
     "data": {
      "image/png": "[encoded data removed]",
      "text/plain": [
       "<Figure size 432x288 with 1 Axes>"
      ]
     },
     "metadata": {
      "needs_background": "light"
     },
     "output_type": "display_data"
    }
   ],
   "source": [
    "sns.barplot(x='verification_status', y='loan_amnt', hue=\"loan_status\", data=df_1, estimator=np.mean)"
   ]
  },
  {
   "cell_type": "markdown",
   "id": "8e492146",
   "metadata": {
    "code_folding": []
   },
   "source": [
    "We can observe than higher amounts are verified more often in comaprision to others"
   ]
  },
  {
   "cell_type": "code",
   "execution_count": 90,
   "id": "2b08977a",
   "metadata": {},
   "outputs": [
    {
     "data": {
      "image/png": "[encoded data removed]",
      "text/plain": [
       "<Figure size 432x288 with 1 Axes>"
      ]
     },
     "metadata": {
      "needs_background": "light"
     },
     "output_type": "display_data"
    }
   ],
   "source": [
    "sns.boxplot(y='int_rate', x='term', data=df_1, palette=\"colorblind\")\n",
    "plt.show()"
   ]
  },
  {
   "cell_type": "markdown",
   "id": "a26f2898",
   "metadata": {},
   "source": [
    "it can be observed that the interest rates are based on terms means the longer the loan the higher the interest rates."
   ]
  },
  {
   "cell_type": "code",
   "execution_count": 91,
   "id": "d5e360cb",
   "metadata": {},
   "outputs": [
    {
     "data": {
      "image/png": "[encoded data removed]",
      "text/plain": [
       "<Figure size 432x288 with 1 Axes>"
      ]
     },
     "metadata": {
      "needs_background": "light"
     },
     "output_type": "display_data"
    }
   ],
   "source": [
    "# Let's analyse loant status and interest rate\n",
    "sns.barplot(x='grade', y='loan_amnt', hue=\"term\", data=df_1, estimator=np.mean)\n",
    "plt.show()"
   ]
  },
  {
   "cell_type": "markdown",
   "id": "548fcc95",
   "metadata": {},
   "source": [
    "It can be observed by this analysis that the higher amount are approved in longer terms but has lower grade to becuase of it's high charged off frequencies."
   ]
  },
  {
   "cell_type": "code",
   "execution_count": 145,
   "id": "56a3b041",
   "metadata": {},
   "outputs": [
    {
     "data": {
      "text/html": [
       "<div>\n",
       "<style scoped>\n",
       "    .dataframe tbody tr th:only-of-type {\n",
       "        vertical-align: middle;\n",
       "    }\n",
       "\n",
       "    .dataframe tbody tr th {\n",
       "        vertical-align: top;\n",
       "    }\n",
       "\n",
       "    .dataframe thead th {\n",
       "        text-align: right;\n",
       "    }\n",
       "</style>\n",
       "<table border=\"1\" class=\"dataframe\">\n",
       "  <thead>\n",
       "    <tr style=\"text-align: right;\">\n",
       "      <th></th>\n",
       "      <th>annual_income_bins</th>\n",
       "      <th>very low</th>\n",
       "      <th>low</th>\n",
       "      <th>medium</th>\n",
       "      <th>high</th>\n",
       "      <th>very high</th>\n",
       "    </tr>\n",
       "    <tr>\n",
       "      <th>purpose</th>\n",
       "      <th>home_ownership</th>\n",
       "      <th></th>\n",
       "      <th></th>\n",
       "      <th></th>\n",
       "      <th></th>\n",
       "      <th></th>\n",
       "    </tr>\n",
       "  </thead>\n",
       "  <tbody>\n",
       "    <tr>\n",
       "      <th rowspan=\"4\" valign=\"top\">car</th>\n",
       "      <th>MORTGAGE</th>\n",
       "      <td>11.507000</td>\n",
       "      <td>11.017143</td>\n",
       "      <td>13.017143</td>\n",
       "      <td>10.447692</td>\n",
       "      <td>11.827857</td>\n",
       "    </tr>\n",
       "    <tr>\n",
       "      <th>OTHER</th>\n",
       "      <td>12.530000</td>\n",
       "      <td>NaN</td>\n",
       "      <td>NaN</td>\n",
       "      <td>NaN</td>\n",
       "      <td>NaN</td>\n",
       "    </tr>\n",
       "    <tr>\n",
       "      <th>OWN</th>\n",
       "      <td>13.675000</td>\n",
       "      <td>12.920000</td>\n",
       "      <td>17.740000</td>\n",
       "      <td>10.355000</td>\n",
       "      <td>11.890000</td>\n",
       "    </tr>\n",
       "    <tr>\n",
       "      <th>RENT</th>\n",
       "      <td>12.757188</td>\n",
       "      <td>12.240000</td>\n",
       "      <td>13.733077</td>\n",
       "      <td>13.985000</td>\n",
       "      <td>16.110000</td>\n",
       "    </tr>\n",
       "    <tr>\n",
       "      <th rowspan=\"4\" valign=\"top\">credit_card</th>\n",
       "      <th>MORTGAGE</th>\n",
       "      <td>11.670870</td>\n",
       "      <td>12.880541</td>\n",
       "      <td>14.101702</td>\n",
       "      <td>13.055789</td>\n",
       "      <td>14.458254</td>\n",
       "    </tr>\n",
       "    <tr>\n",
       "      <th>OTHER</th>\n",
       "      <td>NaN</td>\n",
       "      <td>11.890000</td>\n",
       "      <td>16.320000</td>\n",
       "      <td>NaN</td>\n",
       "      <td>NaN</td>\n",
       "    </tr>\n",
       "    <tr>\n",
       "      <th>OWN</th>\n",
       "      <td>15.024444</td>\n",
       "      <td>14.158462</td>\n",
       "      <td>16.546667</td>\n",
       "      <td>14.596000</td>\n",
       "      <td>18.640000</td>\n",
       "    </tr>\n",
       "    <tr>\n",
       "      <th>RENT</th>\n",
       "      <td>12.510972</td>\n",
       "      <td>13.192985</td>\n",
       "      <td>13.133721</td>\n",
       "      <td>14.735217</td>\n",
       "      <td>14.307273</td>\n",
       "    </tr>\n",
       "    <tr>\n",
       "      <th rowspan=\"4\" valign=\"top\">debt_consolidation</th>\n",
       "      <th>MORTGAGE</th>\n",
       "      <td>12.394154</td>\n",
       "      <td>13.323400</td>\n",
       "      <td>14.219039</td>\n",
       "      <td>15.036778</td>\n",
       "      <td>15.520339</td>\n",
       "    </tr>\n",
       "    <tr>\n",
       "      <th>OTHER</th>\n",
       "      <td>11.483333</td>\n",
       "      <td>NaN</td>\n",
       "      <td>16.070000</td>\n",
       "      <td>11.200000</td>\n",
       "      <td>11.480000</td>\n",
       "    </tr>\n",
       "    <tr>\n",
       "      <th>OWN</th>\n",
       "      <td>13.164412</td>\n",
       "      <td>15.050000</td>\n",
       "      <td>14.583333</td>\n",
       "      <td>16.211538</td>\n",
       "      <td>14.210714</td>\n",
       "    </tr>\n",
       "    <tr>\n",
       "      <th>RENT</th>\n",
       "      <td>13.460688</td>\n",
       "      <td>14.168234</td>\n",
       "      <td>14.684270</td>\n",
       "      <td>15.170000</td>\n",
       "      <td>15.586417</td>\n",
       "    </tr>\n",
       "    <tr>\n",
       "      <th rowspan=\"3\" valign=\"top\">educational</th>\n",
       "      <th>MORTGAGE</th>\n",
       "      <td>13.785000</td>\n",
       "      <td>8.320000</td>\n",
       "      <td>NaN</td>\n",
       "      <td>12.790000</td>\n",
       "      <td>13.467500</td>\n",
       "    </tr>\n",
       "    <tr>\n",
       "      <th>OWN</th>\n",
       "      <td>14.785000</td>\n",
       "      <td>NaN</td>\n",
       "      <td>NaN</td>\n",
       "      <td>12.875000</td>\n",
       "      <td>NaN</td>\n",
       "    </tr>\n",
       "    <tr>\n",
       "      <th>RENT</th>\n",
       "      <td>12.693684</td>\n",
       "      <td>13.260000</td>\n",
       "      <td>12.382500</td>\n",
       "      <td>12.023333</td>\n",
       "      <td>14.100000</td>\n",
       "    </tr>\n",
       "    <tr>\n",
       "      <th rowspan=\"4\" valign=\"top\">home_improvement</th>\n",
       "      <th>MORTGAGE</th>\n",
       "      <td>12.278800</td>\n",
       "      <td>12.639333</td>\n",
       "      <td>13.133934</td>\n",
       "      <td>13.773333</td>\n",
       "      <td>14.218657</td>\n",
       "    </tr>\n",
       "    <tr>\n",
       "      <th>OTHER</th>\n",
       "      <td>NaN</td>\n",
       "      <td>NaN</td>\n",
       "      <td>NaN</td>\n",
       "      <td>9.630000</td>\n",
       "      <td>NaN</td>\n",
       "    </tr>\n",
       "    <tr>\n",
       "      <th>OWN</th>\n",
       "      <td>14.130000</td>\n",
       "      <td>12.707500</td>\n",
       "      <td>12.440000</td>\n",
       "      <td>15.877143</td>\n",
       "      <td>13.921429</td>\n",
       "    </tr>\n",
       "    <tr>\n",
       "      <th>RENT</th>\n",
       "      <td>11.823125</td>\n",
       "      <td>10.488333</td>\n",
       "      <td>13.853333</td>\n",
       "      <td>14.341250</td>\n",
       "      <td>12.955000</td>\n",
       "    </tr>\n",
       "    <tr>\n",
       "      <th rowspan=\"3\" valign=\"top\">house</th>\n",
       "      <th>MORTGAGE</th>\n",
       "      <td>12.932500</td>\n",
       "      <td>17.175000</td>\n",
       "      <td>11.593333</td>\n",
       "      <td>15.767500</td>\n",
       "      <td>17.178333</td>\n",
       "    </tr>\n",
       "    <tr>\n",
       "      <th>OWN</th>\n",
       "      <td>NaN</td>\n",
       "      <td>NaN</td>\n",
       "      <td>17.500000</td>\n",
       "      <td>NaN</td>\n",
       "      <td>15.270000</td>\n",
       "    </tr>\n",
       "    <tr>\n",
       "      <th>RENT</th>\n",
       "      <td>14.122000</td>\n",
       "      <td>15.823333</td>\n",
       "      <td>16.612000</td>\n",
       "      <td>14.600000</td>\n",
       "      <td>15.407500</td>\n",
       "    </tr>\n",
       "    <tr>\n",
       "      <th rowspan=\"3\" valign=\"top\">major_purchase</th>\n",
       "      <th>MORTGAGE</th>\n",
       "      <td>12.162727</td>\n",
       "      <td>12.133333</td>\n",
       "      <td>13.214783</td>\n",
       "      <td>12.393333</td>\n",
       "      <td>12.649231</td>\n",
       "    </tr>\n",
       "    <tr>\n",
       "      <th>OWN</th>\n",
       "      <td>11.986250</td>\n",
       "      <td>14.002000</td>\n",
       "      <td>13.787500</td>\n",
       "      <td>11.845000</td>\n",
       "      <td>12.970000</td>\n",
       "    </tr>\n",
       "    <tr>\n",
       "      <th>RENT</th>\n",
       "      <td>13.111356</td>\n",
       "      <td>12.761786</td>\n",
       "      <td>13.770833</td>\n",
       "      <td>13.647273</td>\n",
       "      <td>12.768750</td>\n",
       "    </tr>\n",
       "    <tr>\n",
       "      <th rowspan=\"3\" valign=\"top\">medical</th>\n",
       "      <th>MORTGAGE</th>\n",
       "      <td>16.250000</td>\n",
       "      <td>12.577143</td>\n",
       "      <td>12.942727</td>\n",
       "      <td>14.394545</td>\n",
       "      <td>13.921250</td>\n",
       "    </tr>\n",
       "    <tr>\n",
       "      <th>OWN</th>\n",
       "      <td>11.731667</td>\n",
       "      <td>NaN</td>\n",
       "      <td>8.825000</td>\n",
       "      <td>10.130000</td>\n",
       "      <td>NaN</td>\n",
       "    </tr>\n",
       "    <tr>\n",
       "      <th>RENT</th>\n",
       "      <td>12.602381</td>\n",
       "      <td>15.122222</td>\n",
       "      <td>14.473750</td>\n",
       "      <td>14.436000</td>\n",
       "      <td>15.170000</td>\n",
       "    </tr>\n",
       "    <tr>\n",
       "      <th rowspan=\"4\" valign=\"top\">moving</th>\n",
       "      <th>MORTGAGE</th>\n",
       "      <td>9.330000</td>\n",
       "      <td>NaN</td>\n",
       "      <td>10.310000</td>\n",
       "      <td>14.275000</td>\n",
       "      <td>16.590000</td>\n",
       "    </tr>\n",
       "    <tr>\n",
       "      <th>OTHER</th>\n",
       "      <td>14.420000</td>\n",
       "      <td>NaN</td>\n",
       "      <td>NaN</td>\n",
       "      <td>NaN</td>\n",
       "      <td>NaN</td>\n",
       "    </tr>\n",
       "    <tr>\n",
       "      <th>OWN</th>\n",
       "      <td>13.390000</td>\n",
       "      <td>15.510000</td>\n",
       "      <td>NaN</td>\n",
       "      <td>NaN</td>\n",
       "      <td>NaN</td>\n",
       "    </tr>\n",
       "    <tr>\n",
       "      <th>RENT</th>\n",
       "      <td>12.256765</td>\n",
       "      <td>11.599286</td>\n",
       "      <td>12.150909</td>\n",
       "      <td>12.138000</td>\n",
       "      <td>13.656667</td>\n",
       "    </tr>\n",
       "    <tr>\n",
       "      <th rowspan=\"4\" valign=\"top\">other</th>\n",
       "      <th>MORTGAGE</th>\n",
       "      <td>13.948500</td>\n",
       "      <td>12.563333</td>\n",
       "      <td>13.151818</td>\n",
       "      <td>12.553611</td>\n",
       "      <td>14.763019</td>\n",
       "    </tr>\n",
       "    <tr>\n",
       "      <th>OTHER</th>\n",
       "      <td>NaN</td>\n",
       "      <td>15.680000</td>\n",
       "      <td>11.340000</td>\n",
       "      <td>NaN</td>\n",
       "      <td>NaN</td>\n",
       "    </tr>\n",
       "    <tr>\n",
       "      <th>OWN</th>\n",
       "      <td>12.485357</td>\n",
       "      <td>10.307143</td>\n",
       "      <td>12.198571</td>\n",
       "      <td>14.036667</td>\n",
       "      <td>13.737143</td>\n",
       "    </tr>\n",
       "    <tr>\n",
       "      <th>RENT</th>\n",
       "      <td>13.553958</td>\n",
       "      <td>13.718764</td>\n",
       "      <td>13.380303</td>\n",
       "      <td>14.221714</td>\n",
       "      <td>13.500333</td>\n",
       "    </tr>\n",
       "    <tr>\n",
       "      <th rowspan=\"3\" valign=\"top\">renewable_energy</th>\n",
       "      <th>MORTGAGE</th>\n",
       "      <td>11.680000</td>\n",
       "      <td>11.985000</td>\n",
       "      <td>NaN</td>\n",
       "      <td>12.546667</td>\n",
       "      <td>14.790000</td>\n",
       "    </tr>\n",
       "    <tr>\n",
       "      <th>OWN</th>\n",
       "      <td>NaN</td>\n",
       "      <td>NaN</td>\n",
       "      <td>NaN</td>\n",
       "      <td>6.540000</td>\n",
       "      <td>NaN</td>\n",
       "    </tr>\n",
       "    <tr>\n",
       "      <th>RENT</th>\n",
       "      <td>13.804000</td>\n",
       "      <td>11.360000</td>\n",
       "      <td>NaN</td>\n",
       "      <td>7.500000</td>\n",
       "      <td>21.640000</td>\n",
       "    </tr>\n",
       "    <tr>\n",
       "      <th rowspan=\"4\" valign=\"top\">small_business</th>\n",
       "      <th>MORTGAGE</th>\n",
       "      <td>13.309412</td>\n",
       "      <td>13.233636</td>\n",
       "      <td>14.799286</td>\n",
       "      <td>13.795600</td>\n",
       "      <td>14.288600</td>\n",
       "    </tr>\n",
       "    <tr>\n",
       "      <th>OTHER</th>\n",
       "      <td>NaN</td>\n",
       "      <td>NaN</td>\n",
       "      <td>15.650000</td>\n",
       "      <td>14.740000</td>\n",
       "      <td>16.000000</td>\n",
       "    </tr>\n",
       "    <tr>\n",
       "      <th>OWN</th>\n",
       "      <td>14.827500</td>\n",
       "      <td>15.651111</td>\n",
       "      <td>13.352000</td>\n",
       "      <td>15.054000</td>\n",
       "      <td>15.336667</td>\n",
       "    </tr>\n",
       "    <tr>\n",
       "      <th>RENT</th>\n",
       "      <td>13.783623</td>\n",
       "      <td>13.860000</td>\n",
       "      <td>14.379091</td>\n",
       "      <td>15.223939</td>\n",
       "      <td>15.221481</td>\n",
       "    </tr>\n",
       "    <tr>\n",
       "      <th rowspan=\"3\" valign=\"top\">vacation</th>\n",
       "      <th>MORTGAGE</th>\n",
       "      <td>14.650000</td>\n",
       "      <td>NaN</td>\n",
       "      <td>9.880000</td>\n",
       "      <td>17.350000</td>\n",
       "      <td>12.333333</td>\n",
       "    </tr>\n",
       "    <tr>\n",
       "      <th>OWN</th>\n",
       "      <td>10.990000</td>\n",
       "      <td>9.615000</td>\n",
       "      <td>17.560000</td>\n",
       "      <td>NaN</td>\n",
       "      <td>NaN</td>\n",
       "    </tr>\n",
       "    <tr>\n",
       "      <th>RENT</th>\n",
       "      <td>11.750769</td>\n",
       "      <td>11.171538</td>\n",
       "      <td>12.265000</td>\n",
       "      <td>10.867500</td>\n",
       "      <td>6.540000</td>\n",
       "    </tr>\n",
       "    <tr>\n",
       "      <th rowspan=\"3\" valign=\"top\">wedding</th>\n",
       "      <th>MORTGAGE</th>\n",
       "      <td>11.496000</td>\n",
       "      <td>12.414000</td>\n",
       "      <td>11.716667</td>\n",
       "      <td>15.875000</td>\n",
       "      <td>11.726250</td>\n",
       "    </tr>\n",
       "    <tr>\n",
       "      <th>OWN</th>\n",
       "      <td>13.490000</td>\n",
       "      <td>9.910000</td>\n",
       "      <td>NaN</td>\n",
       "      <td>NaN</td>\n",
       "      <td>NaN</td>\n",
       "    </tr>\n",
       "    <tr>\n",
       "      <th>RENT</th>\n",
       "      <td>14.703077</td>\n",
       "      <td>14.052000</td>\n",
       "      <td>14.113077</td>\n",
       "      <td>14.097273</td>\n",
       "      <td>13.241667</td>\n",
       "    </tr>\n",
       "  </tbody>\n",
       "</table>\n",
       "</div>"
      ],
      "text/plain": [
       "annual_income_bins                  very low        low     medium       high  \\\n",
       "purpose            home_ownership                                               \n",
       "car                MORTGAGE        11.507000  11.017143  13.017143  10.447692   \n",
       "                   OTHER           12.530000        NaN        NaN        NaN   \n",
       "                   OWN             13.675000  12.920000  17.740000  10.355000   \n",
       "                   RENT            12.757188  12.240000  13.733077  13.985000   \n",
       "credit_card        MORTGAGE        11.670870  12.880541  14.101702  13.055789   \n",
       "                   OTHER                 NaN  11.890000  16.320000        NaN   \n",
       "                   OWN             15.024444  14.158462  16.546667  14.596000   \n",
       "                   RENT            12.510972  13.192985  13.133721  14.735217   \n",
       "debt_consolidation MORTGAGE        12.394154  13.323400  14.219039  15.036778   \n",
       "                   OTHER           11.483333        NaN  16.070000  11.200000   \n",
       "                   OWN             13.164412  15.050000  14.583333  16.211538   \n",
       "                   RENT            13.460688  14.168234  14.684270  15.170000   \n",
       "educational        MORTGAGE        13.785000   8.320000        NaN  12.790000   \n",
       "                   OWN             14.785000        NaN        NaN  12.875000   \n",
       "                   RENT            12.693684  13.260000  12.382500  12.023333   \n",
       "home_improvement   MORTGAGE        12.278800  12.639333  13.133934  13.773333   \n",
       "                   OTHER                 NaN        NaN        NaN   9.630000   \n",
       "                   OWN             14.130000  12.707500  12.440000  15.877143   \n",
       "                   RENT            11.823125  10.488333  13.853333  14.341250   \n",
       "house              MORTGAGE        12.932500  17.175000  11.593333  15.767500   \n",
       "                   OWN                   NaN        NaN  17.500000        NaN   \n",
       "                   RENT            14.122000  15.823333  16.612000  14.600000   \n",
       "major_purchase     MORTGAGE        12.162727  12.133333  13.214783  12.393333   \n",
       "                   OWN             11.986250  14.002000  13.787500  11.845000   \n",
       "                   RENT            13.111356  12.761786  13.770833  13.647273   \n",
       "medical            MORTGAGE        16.250000  12.577143  12.942727  14.394545   \n",
       "                   OWN             11.731667        NaN   8.825000  10.130000   \n",
       "                   RENT            12.602381  15.122222  14.473750  14.436000   \n",
       "moving             MORTGAGE         9.330000        NaN  10.310000  14.275000   \n",
       "                   OTHER           14.420000        NaN        NaN        NaN   \n",
       "                   OWN             13.390000  15.510000        NaN        NaN   \n",
       "                   RENT            12.256765  11.599286  12.150909  12.138000   \n",
       "other              MORTGAGE        13.948500  12.563333  13.151818  12.553611   \n",
       "                   OTHER                 NaN  15.680000  11.340000        NaN   \n",
       "                   OWN             12.485357  10.307143  12.198571  14.036667   \n",
       "                   RENT            13.553958  13.718764  13.380303  14.221714   \n",
       "renewable_energy   MORTGAGE        11.680000  11.985000        NaN  12.546667   \n",
       "                   OWN                   NaN        NaN        NaN   6.540000   \n",
       "                   RENT            13.804000  11.360000        NaN   7.500000   \n",
       "small_business     MORTGAGE        13.309412  13.233636  14.799286  13.795600   \n",
       "                   OTHER                 NaN        NaN  15.650000  14.740000   \n",
       "                   OWN             14.827500  15.651111  13.352000  15.054000   \n",
       "                   RENT            13.783623  13.860000  14.379091  15.223939   \n",
       "vacation           MORTGAGE        14.650000        NaN   9.880000  17.350000   \n",
       "                   OWN             10.990000   9.615000  17.560000        NaN   \n",
       "                   RENT            11.750769  11.171538  12.265000  10.867500   \n",
       "wedding            MORTGAGE        11.496000  12.414000  11.716667  15.875000   \n",
       "                   OWN             13.490000   9.910000        NaN        NaN   \n",
       "                   RENT            14.703077  14.052000  14.113077  14.097273   \n",
       "\n",
       "annual_income_bins                 very high  \n",
       "purpose            home_ownership             \n",
       "car                MORTGAGE        11.827857  \n",
       "                   OTHER                 NaN  \n",
       "                   OWN             11.890000  \n",
       "                   RENT            16.110000  \n",
       "credit_card        MORTGAGE        14.458254  \n",
       "                   OTHER                 NaN  \n",
       "                   OWN             18.640000  \n",
       "                   RENT            14.307273  \n",
       "debt_consolidation MORTGAGE        15.520339  \n",
       "                   OTHER           11.480000  \n",
       "                   OWN             14.210714  \n",
       "                   RENT            15.586417  \n",
       "educational        MORTGAGE        13.467500  \n",
       "                   OWN                   NaN  \n",
       "                   RENT            14.100000  \n",
       "home_improvement   MORTGAGE        14.218657  \n",
       "                   OTHER                 NaN  \n",
       "                   OWN             13.921429  \n",
       "                   RENT            12.955000  \n",
       "house              MORTGAGE        17.178333  \n",
       "                   OWN             15.270000  \n",
       "                   RENT            15.407500  \n",
       "major_purchase     MORTGAGE        12.649231  \n",
       "                   OWN             12.970000  \n",
       "                   RENT            12.768750  \n",
       "medical            MORTGAGE        13.921250  \n",
       "                   OWN                   NaN  \n",
       "                   RENT            15.170000  \n",
       "moving             MORTGAGE        16.590000  \n",
       "                   OTHER                 NaN  \n",
       "                   OWN                   NaN  \n",
       "                   RENT            13.656667  \n",
       "other              MORTGAGE        14.763019  \n",
       "                   OTHER                 NaN  \n",
       "                   OWN             13.737143  \n",
       "                   RENT            13.500333  \n",
       "renewable_energy   MORTGAGE        14.790000  \n",
       "                   OWN                   NaN  \n",
       "                   RENT            21.640000  \n",
       "small_business     MORTGAGE        14.288600  \n",
       "                   OTHER           16.000000  \n",
       "                   OWN             15.336667  \n",
       "                   RENT            15.221481  \n",
       "vacation           MORTGAGE        12.333333  \n",
       "                   OWN                   NaN  \n",
       "                   RENT             6.540000  \n",
       "wedding            MORTGAGE        11.726250  \n",
       "                   OWN                   NaN  \n",
       "                   RENT            13.241667  "
      ]
     },
     "execution_count": 145,
     "metadata": {},
     "output_type": "execute_result"
    }
   ],
   "source": [
    "pd.pivot_table(Defaulted_Population, values='int_rate', index=['purpose','home_ownership'], columns='annual_income_bins',aggfunc=np.mean)"
   ]
  },
  {
   "cell_type": "code",
   "execution_count": 148,
   "id": "4cdbfc8e",
   "metadata": {},
   "outputs": [
    {
     "data": {
      "image/png": "[encoded data removed]",
      "text/plain": [
       "<Figure size 1080x720 with 1 Axes>"
      ]
     },
     "metadata": {
      "needs_background": "light"
     },
     "output_type": "display_data"
    }
   ],
   "source": [
    "plt.figure(figsize=(15,10))\n",
    "plt.xticks(rotation=45)\n",
    "sns.boxplot(x='purpose',y='int_rate',data=Defaulted_Population,palette=\"Set3\")\n",
    "plt.show()"
   ]
  },
  {
   "cell_type": "code",
   "execution_count": null,
   "id": "7f815b13",
   "metadata": {},
   "outputs": [],
   "source": []
  }
 ],
 "metadata": {
  "kernelspec": {
   "display_name": "Python 3",
   "language": "python",
   "name": "python3"
  },
  "language_info": {
   "codemirror_mode": {
    "name": "ipython",
    "version": 3
   },
   "file_extension": ".py",
   "mimetype": "text/x-python",
   "name": "python",
   "nbconvert_exporter": "python",
   "pygments_lexer": "ipython3",
   "version": "3.8.8"
  }
 },
 "nbformat": 4,
 "nbformat_minor": 5
}
